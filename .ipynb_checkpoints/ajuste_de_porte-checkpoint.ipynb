{
 "cells": [
  {
   "cell_type": "code",
   "execution_count": 1,
   "id": "a10d0003",
   "metadata": {},
   "outputs": [],
   "source": [
    "import pandas as pd\n",
    "import warnings\n",
    "warnings.filterwarnings('ignore')\n",
    "df = pd.read_csv('Datasets\\df1_fornecedores.csv')"
   ]
  },
  {
   "cell_type": "code",
   "execution_count": 3,
   "id": "74e710fb",
   "metadata": {},
   "outputs": [
    {
     "data": {
      "text/plain": [
       "array(['ME/EPP', 'NÃO INFORMADO', 'GRANDE PORTE', 'Não definido'],\n",
       "      dtype=object)"
      ]
     },
     "execution_count": 3,
     "metadata": {},
     "output_type": "execute_result"
    }
   ],
   "source": [
    "df['porte'].unique()"
   ]
  },
  {
   "cell_type": "code",
   "execution_count": 4,
   "id": "2b8bb8f8",
   "metadata": {},
   "outputs": [],
   "source": [
    "df['porte'].replace(['NÃO INFORMADO', 'Não definido'], 'Não informado', inplace=True)"
   ]
  },
  {
   "cell_type": "code",
   "execution_count": 5,
   "id": "42997fc0",
   "metadata": {},
   "outputs": [
    {
     "data": {
      "text/plain": [
       "array(['ME/EPP', 'Não informado', 'GRANDE PORTE'], dtype=object)"
      ]
     },
     "execution_count": 5,
     "metadata": {},
     "output_type": "execute_result"
    }
   ],
   "source": [
    "df['porte'].unique()"
   ]
  },
  {
   "cell_type": "code",
   "execution_count": 6,
   "id": "471371c4",
   "metadata": {},
   "outputs": [],
   "source": [
    "df['porte'].replace('GRANDE PORTE', 'Grade Porte', inplace=True)"
   ]
  },
  {
   "cell_type": "code",
   "execution_count": 7,
   "id": "6330ac94",
   "metadata": {
    "scrolled": true
   },
   "outputs": [
    {
     "data": {
      "text/plain": [
       "array(['ME/EPP', 'Não informado', 'Grade Porte'], dtype=object)"
      ]
     },
     "execution_count": 7,
     "metadata": {},
     "output_type": "execute_result"
    }
   ],
   "source": [
    "df['porte'].unique()"
   ]
  },
  {
   "cell_type": "code",
   "execution_count": 8,
   "id": "986a10ba",
   "metadata": {},
   "outputs": [],
   "source": [
    "df['porte'].replace('ME/EPP', 'Micro Empresa ou Empresa de Pequeno Porte', inplace=True)"
   ]
  },
  {
   "cell_type": "code",
   "execution_count": 9,
   "id": "2f73deb9",
   "metadata": {},
   "outputs": [
    {
     "data": {
      "text/plain": [
       "array(['Micro Empresa ou Empresa de Pequeno Porte', 'Não informado',\n",
       "       'Grade Porte'], dtype=object)"
      ]
     },
     "execution_count": 9,
     "metadata": {},
     "output_type": "execute_result"
    }
   ],
   "source": [
    "df['porte'].unique()"
   ]
  },
  {
   "cell_type": "code",
   "execution_count": 10,
   "id": "b52a7e0b",
   "metadata": {},
   "outputs": [],
   "source": [
    "df.to_csv('datasets/df1_fornecedores.csv',index=False)"
   ]
  }
 ],
 "metadata": {
  "kernelspec": {
   "display_name": "Python 3 (ipykernel)",
   "language": "python",
   "name": "python3"
  },
  "language_info": {
   "codemirror_mode": {
    "name": "ipython",
    "version": 3
   },
   "file_extension": ".py",
   "mimetype": "text/x-python",
   "name": "python",
   "nbconvert_exporter": "python",
   "pygments_lexer": "ipython3",
   "version": "3.8.5"
  }
 },
 "nbformat": 4,
 "nbformat_minor": 5
}
