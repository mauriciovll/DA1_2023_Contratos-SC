{
 "cells": [
  {
   "cell_type": "code",
   "execution_count": 1,
   "id": "4e81c660",
   "metadata": {},
   "outputs": [],
   "source": [
    "import pandas as pd\n",
    "import numpy as np\n",
    "import sys\n",
    "import warnings\n",
    "if not sys.warnoptions:\n",
    "    warnings.simplefilter(\"ignore\")\n",
    "\n",
    "df = pd.read_csv('datasets/ELIC_fornecedores_cadastro.csv')\n",
    "df1 = df\n",
    "df1[['Grupo','Classe','Descricao']] = df['produtos_habilitados'].str.split(' - ',2,expand=True)\n",
    "df2 = df1\n",
    "df2['Grupo1'] = df2['Grupo'].str[0:2]\n",
    "df2['Grupo2'] = df2['Grupo'].str[2:]\n",
    "df2.rename(columns={'Grupo':'Código GC'}, inplace=True)\n",
    "df2['Grupo_desc'] = df2['Grupo1']+' - '+df2['Classe']\n",
    "df2['Classe_desc'] = df2['Grupo2']+' - '+df2['Descricao']\n",
    "df2.drop(columns=['Classe','Descricao','Grupo1','Grupo2'], inplace=True)\n",
    "df2.rename(columns={'Grupo_desc':'Grupo','Classe_desc':'Classe'},inplace=True)\n",
    "df2.to_csv('./Datasets/df2_fornecedores.csv', index=False)"
   ]
  }
 ],
 "metadata": {
  "kernelspec": {
   "display_name": "Python 3 (ipykernel)",
   "language": "python",
   "name": "python3"
  },
  "language_info": {
   "codemirror_mode": {
    "name": "ipython",
    "version": 3
   },
   "file_extension": ".py",
   "mimetype": "text/x-python",
   "name": "python",
   "nbconvert_exporter": "python",
   "pygments_lexer": "ipython3",
   "version": "3.8.5"
  }
 },
 "nbformat": 4,
 "nbformat_minor": 5
}
