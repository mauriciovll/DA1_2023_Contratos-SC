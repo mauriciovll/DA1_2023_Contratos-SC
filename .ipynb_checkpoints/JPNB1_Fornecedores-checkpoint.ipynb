{
 "cells": [
  {
   "cell_type": "markdown",
   "id": "22df8260",
   "metadata": {},
   "source": [
    "![imagem](images/VLL_Banner.png)"
   ]
  },
  {
   "cell_type": "markdown",
   "id": "06f266c1",
   "metadata": {},
   "source": [
    "<div style=\"font-size: 24px; text-align: center;font-weight: bold\">ANÁLISE DAS CONTRATAÇÕES NO ESTADO DE SANTA CATARINA:</div><br>\n",
    "\n",
    "<div style=\"font-size: 20px; text-align: center\">JPNB 01 - PRÉ-PROCESSAMENTO DOS DADOS DE FORNECEDORES</div>"
   ]
  },
  {
   "cell_type": "markdown",
   "id": "168ec6df",
   "metadata": {},
   "source": [
    "<span style='font-size: 14px'>Autor: [Maurício Vasconcellos Leão Lyrio, Dr.](https://br.linkedin.com/in/maur%C3%ADcio-vasconcellos-le%C3%A3o-lyrio-59773220) | E-mail: mauricio@vll.adm.br | Página Oficial: www.vll.adm.br</span>"
   ]
  },
  {
   "cell_type": "markdown",
   "id": "825ed750",
   "metadata": {},
   "source": [
    "---\n",
    "# Instalação das bibliotecas"
   ]
  },
  {
   "cell_type": "code",
   "execution_count": 1,
   "id": "5326417e",
   "metadata": {},
   "outputs": [
    {
     "name": "stdout",
     "output_type": "stream",
     "text": [
      "Author: Mauricio Vasconcellos Leão Lyrio | vll.adm.br\n",
      "\n",
      "numpy     : 1.24.3\n",
      "matplotlib: 3.4.1\n",
      "pandas    : 1.5.3\n",
      "seaborn   : 0.12.2\n",
      "\n"
     ]
    }
   ],
   "source": [
    "# Manipulação de dados\n",
    "import pandas as pd\n",
    "import numpy as np\n",
    "\n",
    "# Visualização de dados\n",
    "import matplotlib.pyplot as plt\n",
    "import seaborn as sns\n",
    "\n",
    "# Ignorar warnings\n",
    "import warnings\n",
    "warnings.filterwarnings('ignore')\n",
    "\n",
    "# Versões dos pacotes utilizados neste Jupyter notebook\n",
    "#!pip install -q -U watermark\n",
    "%reload_ext watermark\n",
    "%watermark -a \"Mauricio Vasconcellos Leão Lyrio | vll.adm.br\" --iversions"
   ]
  },
  {
   "cell_type": "markdown",
   "id": "532c988c",
   "metadata": {},
   "source": [
    "---\n",
    "# Carregamento dos datasets"
   ]
  },
  {
   "cell_type": "markdown",
   "id": "70ae7d2a",
   "metadata": {},
   "source": [
    "Para iniciar nosso processo de análise de dados iremos **carregar o dataset com os dados cadastrais de fornecedores** recebido por meio de solicitação via LAI. Esse procedimento carrega o dataset do arquivo .csv original e o armazena em um dataframe pandas denominado ***df***, para que possamos manipulá-lo posteriormente."
   ]
  },
  {
   "cell_type": "code",
   "execution_count": 2,
   "id": "c5ee4f82",
   "metadata": {},
   "outputs": [],
   "source": [
    "# Carregando o dataset de fornecedores\n",
    "df = pd.read_csv('datasets/ELIC_fornecedores_cadastro.csv')"
   ]
  },
  {
   "cell_type": "markdown",
   "id": "da184819",
   "metadata": {},
   "source": [
    "---\n",
    "# Análise exploratória dos dados"
   ]
  },
  {
   "cell_type": "markdown",
   "id": "c1aec91d",
   "metadata": {},
   "source": [
    "Após carregar o dataset damos início ao processo de análise exploratório, buscando **analisar a qualidade e integridade dos dados**. O processo de análise exploratório nos ajuda a ter uma visão geral do dataset e que tipo de pré-processamento precisaremos realizar nos dados a fim de deixá-los prontos para as etapas posteriores."
   ]
  },
  {
   "cell_type": "code",
   "execution_count": 3,
   "id": "1705407a",
   "metadata": {},
   "outputs": [
    {
     "data": {
      "text/plain": [
       "pandas.core.frame.DataFrame"
      ]
     },
     "execution_count": 3,
     "metadata": {},
     "output_type": "execute_result"
    }
   ],
   "source": [
    "# Verificando se o dataset foi carregado corretamente e seu tipo\n",
    "type(df)"
   ]
  },
  {
   "cell_type": "code",
   "execution_count": 4,
   "id": "b8f2df55",
   "metadata": {},
   "outputs": [
    {
     "data": {
      "text/plain": [
       "(358232, 8)"
      ]
     },
     "execution_count": 4,
     "metadata": {},
     "output_type": "execute_result"
    }
   ],
   "source": [
    "# Verificando o formato do dataset\n",
    "df.shape"
   ]
  },
  {
   "cell_type": "code",
   "execution_count": 5,
   "id": "e5fbe946",
   "metadata": {},
   "outputs": [
    {
     "data": {
      "text/plain": [
       "Index(['cnpj', 'razao_social', 'porte', 'cidade', 'uf', 'pais', 'situacao',\n",
       "       'produtos_habilitados'],\n",
       "      dtype='object')"
      ]
     },
     "execution_count": 5,
     "metadata": {},
     "output_type": "execute_result"
    }
   ],
   "source": [
    "# Listando as colunas do dataset\n",
    "df.columns"
   ]
  },
  {
   "cell_type": "code",
   "execution_count": 6,
   "id": "2b3244b0",
   "metadata": {},
   "outputs": [
    {
     "name": "stdout",
     "output_type": "stream",
     "text": [
      "<class 'pandas.core.frame.DataFrame'>\n",
      "RangeIndex: 358232 entries, 0 to 358231\n",
      "Data columns (total 8 columns):\n",
      " #   Column                Non-Null Count   Dtype \n",
      "---  ------                --------------   ----- \n",
      " 0   cnpj                  358232 non-null  int64 \n",
      " 1   razao_social          358232 non-null  object\n",
      " 2   porte                 358232 non-null  object\n",
      " 3   cidade                358101 non-null  object\n",
      " 4   uf                    358101 non-null  object\n",
      " 5   pais                  358101 non-null  object\n",
      " 6   situacao              358232 non-null  object\n",
      " 7   produtos_habilitados  357273 non-null  object\n",
      "dtypes: int64(1), object(7)\n",
      "memory usage: 21.9+ MB\n"
     ]
    }
   ],
   "source": [
    "# Listando as informações gerais do dataset\n",
    "df.info()"
   ]
  },
  {
   "cell_type": "markdown",
   "id": "783254c7",
   "metadata": {},
   "source": [
    "Até o momento conseguimos carregar os dados, verificar o tamanho do dataset, suas colunas, o tipo de dado de cada coluna e se existem valores ausentes. Pelo info do dataset é possível perceber que existem campos com valores nulos. Precisaremos definir o que fazer com esses campos e que tipo de tratamento iremos dar para os valores nulos, voltaremos a discutir essa questão na fase do pré-processamento de dados.\n",
    "\n",
    "Pelo info do dataset também é possível perceber que quase todos os campos são não-numéricos. O único campo numérico é o ***cnpj***, que, na verdade, não é uma variável quantitativa e sim um código que representa o cadastro de pessoa jurídica do fornecedor. Posteriormente iremos ajustar o tipo de dado desse campo, por hora iremos somente descrever os demais campos de nosso dataset e visualizar uma amostra dos dados."
   ]
  },
  {
   "cell_type": "code",
   "execution_count": 7,
   "id": "8ea0c5b5",
   "metadata": {
    "scrolled": false
   },
   "outputs": [
    {
     "data": {
      "text/html": [
       "<div>\n",
       "<style scoped>\n",
       "    .dataframe tbody tr th:only-of-type {\n",
       "        vertical-align: middle;\n",
       "    }\n",
       "\n",
       "    .dataframe tbody tr th {\n",
       "        vertical-align: top;\n",
       "    }\n",
       "\n",
       "    .dataframe thead th {\n",
       "        text-align: right;\n",
       "    }\n",
       "</style>\n",
       "<table border=\"1\" class=\"dataframe\">\n",
       "  <thead>\n",
       "    <tr style=\"text-align: right;\">\n",
       "      <th></th>\n",
       "      <th>razao_social</th>\n",
       "      <th>porte</th>\n",
       "      <th>cidade</th>\n",
       "      <th>uf</th>\n",
       "      <th>pais</th>\n",
       "      <th>situacao</th>\n",
       "      <th>produtos_habilitados</th>\n",
       "    </tr>\n",
       "  </thead>\n",
       "  <tbody>\n",
       "    <tr>\n",
       "      <th>count</th>\n",
       "      <td>358232</td>\n",
       "      <td>358232</td>\n",
       "      <td>358101</td>\n",
       "      <td>358101</td>\n",
       "      <td>358101</td>\n",
       "      <td>358232</td>\n",
       "      <td>357273</td>\n",
       "    </tr>\n",
       "    <tr>\n",
       "      <th>unique</th>\n",
       "      <td>20121</td>\n",
       "      <td>3</td>\n",
       "      <td>1181</td>\n",
       "      <td>29</td>\n",
       "      <td>3</td>\n",
       "      <td>5</td>\n",
       "      <td>859</td>\n",
       "    </tr>\n",
       "    <tr>\n",
       "      <th>top</th>\n",
       "      <td>HAKA COMERCIAL DO BRASIL LTDA</td>\n",
       "      <td>ME/EPP</td>\n",
       "      <td>FLORIANOPOLIS</td>\n",
       "      <td>Santa Catarina</td>\n",
       "      <td>Brasil</td>\n",
       "      <td>Empresa ativa</td>\n",
       "      <td>1301 - Equipamentos, programas e suprimentos d...</td>\n",
       "    </tr>\n",
       "    <tr>\n",
       "      <th>freq</th>\n",
       "      <td>851</td>\n",
       "      <td>236367</td>\n",
       "      <td>31761</td>\n",
       "      <td>173193</td>\n",
       "      <td>358082</td>\n",
       "      <td>256961</td>\n",
       "      <td>2697</td>\n",
       "    </tr>\n",
       "  </tbody>\n",
       "</table>\n",
       "</div>"
      ],
      "text/plain": [
       "                         razao_social   porte         cidade              uf  \\\n",
       "count                          358232  358232         358101          358101   \n",
       "unique                          20121       3           1181              29   \n",
       "top     HAKA COMERCIAL DO BRASIL LTDA  ME/EPP  FLORIANOPOLIS  Santa Catarina   \n",
       "freq                              851  236367          31761          173193   \n",
       "\n",
       "          pais       situacao  \\\n",
       "count   358101         358232   \n",
       "unique       3              5   \n",
       "top     Brasil  Empresa ativa   \n",
       "freq    358082         256961   \n",
       "\n",
       "                                     produtos_habilitados  \n",
       "count                                              357273  \n",
       "unique                                                859  \n",
       "top     1301 - Equipamentos, programas e suprimentos d...  \n",
       "freq                                                 2697  "
      ]
     },
     "execution_count": 7,
     "metadata": {},
     "output_type": "execute_result"
    }
   ],
   "source": [
    "# Descrevendo os dados não-numéricos\n",
    "df.describe(include=object)"
   ]
  },
  {
   "cell_type": "code",
   "execution_count": 8,
   "id": "e9555f09",
   "metadata": {},
   "outputs": [
    {
     "data": {
      "text/html": [
       "<div>\n",
       "<style scoped>\n",
       "    .dataframe tbody tr th:only-of-type {\n",
       "        vertical-align: middle;\n",
       "    }\n",
       "\n",
       "    .dataframe tbody tr th {\n",
       "        vertical-align: top;\n",
       "    }\n",
       "\n",
       "    .dataframe thead th {\n",
       "        text-align: right;\n",
       "    }\n",
       "</style>\n",
       "<table border=\"1\" class=\"dataframe\">\n",
       "  <thead>\n",
       "    <tr style=\"text-align: right;\">\n",
       "      <th></th>\n",
       "      <th>cnpj</th>\n",
       "      <th>razao_social</th>\n",
       "      <th>porte</th>\n",
       "      <th>cidade</th>\n",
       "      <th>uf</th>\n",
       "      <th>pais</th>\n",
       "      <th>situacao</th>\n",
       "      <th>produtos_habilitados</th>\n",
       "    </tr>\n",
       "  </thead>\n",
       "  <tbody>\n",
       "    <tr>\n",
       "      <th>0</th>\n",
       "      <td>6942591000100</td>\n",
       "      <td>MCG AGUIAR CARTUCHOS ME</td>\n",
       "      <td>ME/EPP</td>\n",
       "      <td>SAO JOSE DO RIO PRETO</td>\n",
       "      <td>São Paulo</td>\n",
       "      <td>Brasil</td>\n",
       "      <td>Empresa ativa</td>\n",
       "      <td>1303 - Equipamentos, programas e suprimentos d...</td>\n",
       "    </tr>\n",
       "    <tr>\n",
       "      <th>1</th>\n",
       "      <td>5325332000160</td>\n",
       "      <td>Global Multimídia Comércio de Eletroeletrônico...</td>\n",
       "      <td>ME/EPP</td>\n",
       "      <td>SAO PAULO</td>\n",
       "      <td>São Paulo</td>\n",
       "      <td>Brasil</td>\n",
       "      <td>Empresa ativa</td>\n",
       "      <td>1303 - Equipamentos, programas e suprimentos d...</td>\n",
       "    </tr>\n",
       "    <tr>\n",
       "      <th>2</th>\n",
       "      <td>9349162000104</td>\n",
       "      <td>TEXAS INFORMATICA E PRODUTOS LTDA. EPP</td>\n",
       "      <td>NÃO INFORMADO</td>\n",
       "      <td>VITORIA</td>\n",
       "      <td>Espírito Santo</td>\n",
       "      <td>Brasil</td>\n",
       "      <td>Empresa ativa</td>\n",
       "      <td>1303 - Equipamentos, programas e suprimentos d...</td>\n",
       "    </tr>\n",
       "    <tr>\n",
       "      <th>3</th>\n",
       "      <td>13000035000172</td>\n",
       "      <td>TARCIANE LOHN BOECHAT EPP</td>\n",
       "      <td>ME/EPP</td>\n",
       "      <td>SANTO AMARO DA IMPERATRIZ</td>\n",
       "      <td>Santa Catarina</td>\n",
       "      <td>Brasil</td>\n",
       "      <td>Empresa ativa</td>\n",
       "      <td>1303 - Equipamentos, programas e suprimentos d...</td>\n",
       "    </tr>\n",
       "    <tr>\n",
       "      <th>4</th>\n",
       "      <td>73977480000119</td>\n",
       "      <td>COMERCIAL STORINNY LTDA EPP</td>\n",
       "      <td>ME/EPP</td>\n",
       "      <td>PORTO BELO</td>\n",
       "      <td>Santa Catarina</td>\n",
       "      <td>Brasil</td>\n",
       "      <td>Empresa ativa</td>\n",
       "      <td>1303 - Equipamentos, programas e suprimentos d...</td>\n",
       "    </tr>\n",
       "  </tbody>\n",
       "</table>\n",
       "</div>"
      ],
      "text/plain": [
       "             cnpj                                       razao_social  \\\n",
       "0   6942591000100                            MCG AGUIAR CARTUCHOS ME   \n",
       "1   5325332000160  Global Multimídia Comércio de Eletroeletrônico...   \n",
       "2   9349162000104             TEXAS INFORMATICA E PRODUTOS LTDA. EPP   \n",
       "3  13000035000172                          TARCIANE LOHN BOECHAT EPP   \n",
       "4  73977480000119                        COMERCIAL STORINNY LTDA EPP   \n",
       "\n",
       "           porte                     cidade              uf    pais  \\\n",
       "0         ME/EPP      SAO JOSE DO RIO PRETO       São Paulo  Brasil   \n",
       "1         ME/EPP                  SAO PAULO       São Paulo  Brasil   \n",
       "2  NÃO INFORMADO                    VITORIA  Espírito Santo  Brasil   \n",
       "3         ME/EPP  SANTO AMARO DA IMPERATRIZ  Santa Catarina  Brasil   \n",
       "4         ME/EPP                 PORTO BELO  Santa Catarina  Brasil   \n",
       "\n",
       "        situacao                               produtos_habilitados  \n",
       "0  Empresa ativa  1303 - Equipamentos, programas e suprimentos d...  \n",
       "1  Empresa ativa  1303 - Equipamentos, programas e suprimentos d...  \n",
       "2  Empresa ativa  1303 - Equipamentos, programas e suprimentos d...  \n",
       "3  Empresa ativa  1303 - Equipamentos, programas e suprimentos d...  \n",
       "4  Empresa ativa  1303 - Equipamentos, programas e suprimentos d...  "
      ]
     },
     "execution_count": 8,
     "metadata": {},
     "output_type": "execute_result"
    }
   ],
   "source": [
    "df.head()"
   ]
  },
  {
   "cell_type": "markdown",
   "id": "d51cc9f6",
   "metadata": {},
   "source": [
    "Com a visualização de uma amostra do dataset finalizamos a análise exploratória. Outros tipos de análise poderiam ser feitos nessa fase, porém, para nosso objetivo de preparar o dataset o que vimos até agora é suficiente. Passemos então à próxima fase do processo, o pré-processamento dos dados."
   ]
  },
  {
   "cell_type": "markdown",
   "id": "51d56af5",
   "metadata": {},
   "source": [
    "---\n",
    "# Pré-processamento"
   ]
  },
  {
   "cell_type": "markdown",
   "id": "065ea1f0",
   "metadata": {},
   "source": [
    "Na fase de análise exploratória identificamos que nosso dataset possui campos nulos e também que um dos campos foi definido de forma equivocada como numérico. Vamos agora tratar esses problemas e também analisar a necessidade de outros tipos de transformação de dados. Comecemos com a limpeza dos dados."
   ]
  },
  {
   "cell_type": "markdown",
   "id": "ff65bd8a",
   "metadata": {},
   "source": [
    "## Consolidação"
   ]
  },
  {
   "cell_type": "markdown",
   "id": "a8a88ef1",
   "metadata": {},
   "source": [
    "## Limpeza"
   ]
  },
  {
   "cell_type": "markdown",
   "id": "ceb16944",
   "metadata": {},
   "source": [
    "Conforme visto anteriormente, nosso dataset possui uma série de campos com valores nulos. Vamos analisar melhor essa situação e definir o que fazer com esses valores. para isso criaremos uma nova **tabela com a distribuição percentual de valores nulos por coluna**."
   ]
  },
  {
   "cell_type": "code",
   "execution_count": 9,
   "id": "28d87929",
   "metadata": {},
   "outputs": [
    {
     "name": "stdout",
     "output_type": "stream",
     "text": [
      "                 Coluna    Tipo  Q Nulo    % Nulo\n",
      "0                  cnpj   int64       0  0.000000\n",
      "1          razao_social  object       0  0.000000\n",
      "2                 porte  object       0  0.000000\n",
      "3                cidade  object     131  0.036568\n",
      "4                    uf  object     131  0.036568\n",
      "5                  pais  object     131  0.036568\n",
      "6              situacao  object       0  0.000000\n",
      "7  produtos_habilitados  object     959  0.267704\n"
     ]
    }
   ],
   "source": [
    "# Criando uma tabela com a distribuição percentual dos valores nulos por coluna.\n",
    "# Criando uma lista vazia para armazenar as informações de nome e tipo de coluna.\n",
    "colunas_info = []\n",
    "\n",
    "# Iterando pelas colunas do dataset\n",
    "for coluna in df.columns:\n",
    "    coluna_nome = coluna\n",
    "    coluna_tipo = df[coluna].dtype\n",
    "    coluna_nulos = df[coluna].isnull().sum()\n",
    "    coluna_nulos_perc = (coluna_nulos/len(df))*100\n",
    "    colunas_info.append((coluna_nome,coluna_tipo,coluna_nulos,coluna_nulos_perc))\n",
    "                        \n",
    "# Criando um novo dataframe e exibindo as informações das colunas\n",
    "df_colunas_info = pd.DataFrame(colunas_info, columns=['Coluna','Tipo','Q Nulo', '% Nulo'])\n",
    "print(df_colunas_info)"
   ]
  },
  {
   "cell_type": "markdown",
   "id": "690586b4",
   "metadata": {},
   "source": [
    "Com a nova tabela fica mais fácil evidenciar os valores ausentes do dataset. No caso, as colunas ***cidade***, ***uf***, ***pais*** e ***produtos_habilitados*** apresentam valores ausentes. Em projetos de datascience, em geral, utiliza-se como regra para tratamento de valores ausentes as seguintes opções:\n",
    "\n",
    "- Para valores ausentes >= 50%, descartamos a variável;\n",
    "- Para valores ausentes < 50%, tratar os valores ausentes;\n",
    "- Para valores ausentes < 2%, descartar os valores ausentes.\n",
    "\n",
    "Apesar dessa regra geral, é importante analisar o dataframe e verificar a forma mais adequada para tratamento dos valores ausentes e, principalmente, justificar as escolhas feitas no decorrer do tratamento dos dados. Em nosso caso, **como os valores ausentes são menos de 2% dos valores dos campos vamos excluí-los**. Porém, vale salientar que, ao excluir os registros cujos campos estão ausentes perdemos parte da informação no dataset, vale refletir sobre a relevância da perda dessa informação.\n",
    "\n",
    "Nesse caso, como os registros no dataset estão com granularidade definida em nível de produtos habilitados, acredita-se que os dados básicos dos fornecedores não serão perdidos devido à exclusão desses registros."
   ]
  },
  {
   "cell_type": "code",
   "execution_count": 10,
   "id": "f98d0938",
   "metadata": {},
   "outputs": [],
   "source": [
    "# Criando uma cópia do dataset original e excluindo os registros com valores nulos.\n",
    "df1 = df.dropna()"
   ]
  },
  {
   "cell_type": "code",
   "execution_count": 11,
   "id": "efd9f720",
   "metadata": {},
   "outputs": [
    {
     "data": {
      "text/plain": [
       "cnpj                    0\n",
       "razao_social            0\n",
       "porte                   0\n",
       "cidade                  0\n",
       "uf                      0\n",
       "pais                    0\n",
       "situacao                0\n",
       "produtos_habilitados    0\n",
       "dtype: int64"
      ]
     },
     "execution_count": 11,
     "metadata": {},
     "output_type": "execute_result"
    }
   ],
   "source": [
    "df1.isnull().sum()"
   ]
  },
  {
   "cell_type": "markdown",
   "id": "be4e9dea",
   "metadata": {},
   "source": [
    "Temos agora um novo dataframe ***df1*** com os registros com valore ausentes excluídos. Mantivemos em memória o dataset original para o caso de queremos retornar à essa versão em outro momento. Passemos agora à tranformação dos dados."
   ]
  },
  {
   "cell_type": "markdown",
   "id": "bc9bd8b6",
   "metadata": {},
   "source": [
    "## Transformação"
   ]
  },
  {
   "cell_type": "markdown",
   "id": "419b387f",
   "metadata": {},
   "source": [
    "---\n",
    "# Geração de dados de saída (Data output)"
   ]
  },
  {
   "cell_type": "markdown",
   "id": "88de4387",
   "metadata": {},
   "source": [
    "## Gravação em arquivos"
   ]
  },
  {
   "cell_type": "markdown",
   "id": "f1f1005b",
   "metadata": {},
   "source": [
    "## Gravação em DB relacional"
   ]
  },
  {
   "cell_type": "markdown",
   "id": "5511e5c7",
   "metadata": {},
   "source": [
    "## Gravação em datalake (BD não-relacional)"
   ]
  },
  {
   "cell_type": "markdown",
   "id": "03dedbc5",
   "metadata": {},
   "source": [
    "---"
   ]
  },
  {
   "cell_type": "code",
   "execution_count": 12,
   "id": "deaa4660",
   "metadata": {},
   "outputs": [
    {
     "name": "stdout",
     "output_type": "stream",
     "text": [
      "Versão da linguagem Python utilizada neste notebook: 3.8.5\n",
      "Arquitetura do Jupyter utilizada neste notebook: 64bit\n"
     ]
    }
   ],
   "source": [
    "# Versão da linguagem Python e arquitetura do Jupyter Notebook\n",
    "import platform\n",
    "print('Versão da linguagem Python utilizada neste notebook:', platform.python_version())\n",
    "print('Arquitetura do Jupyter utilizada neste notebook:', platform.architecture()[0])"
   ]
  }
 ],
 "metadata": {
  "kernelspec": {
   "display_name": "Python 3 (ipykernel)",
   "language": "python",
   "name": "python3"
  },
  "language_info": {
   "codemirror_mode": {
    "name": "ipython",
    "version": 3
   },
   "file_extension": ".py",
   "mimetype": "text/x-python",
   "name": "python",
   "nbconvert_exporter": "python",
   "pygments_lexer": "ipython3",
   "version": "3.8.5"
  }
 },
 "nbformat": 4,
 "nbformat_minor": 5
}
