{
 "cells": [
  {
   "cell_type": "markdown",
   "metadata": {},
   "source": [
    "![imagem](images/VLL_Banner.png)"
   ]
  },
  {
   "cell_type": "code",
   "execution_count": null,
   "metadata": {},
   "outputs": [],
   "source": [
    "# Versão da linguagem Python e arquitetura do Jupyter Notebook\n",
    "import platform\n",
    "print('Versão da linguagem Python utilizada neste notebook:', platform.python_version())\n",
    "print('Arquitetura do Jupyter utilizada neste notebook:', platform.architecture()[0])\n",
    "\n",
    "# Outra forma de apresentar a versão da linguagem Python\n",
    "# import sys\n",
    "# print('Versão da linguagem Python:', sys.version)"
   ]
  },
  {
   "cell_type": "markdown",
   "metadata": {},
   "source": [
    "# DA1 - 2023: Análise de Contratações no Poder Executivo de Santa Catarina - Fornecedores"
   ]
  },
  {
   "cell_type": "markdown",
   "metadata": {},
   "source": [
    "## O processo de *Data Wrangling*"
   ]
  },
  {
   "cell_type": "markdown",
   "metadata": {},
   "source": [
    "***Data Wrangling***, é o processo de preparação e transformação de dados brutos em um formato mais adequado e útil para análise de dados. O termo *\"wrangling\"* refere-se a lidar com dados desorganizados, bagunçados ou difíceis de usar. O processo envolve uma série de etapas, incluindo limpeza, transformação, integração e formatação de dados, a fim de torná-los mais coerentes, completos, corretos e prontos para análise. Algumas das tarefas comuns de *Data Wrangling* incluem:\n",
    "\n",
    "**Limpeza de dados:** Remover ou corrigir dados duplicados, incompletos, inconsistentes ou incorretos. Isso pode envolver a remoção de valores nulos, a correção de erros de digitação ou a padronização de formatos de dados.\n",
    "\n",
    "**Transformação de dados:** Realizar operações de transformação nos dados, como filtrar, agrupar, ordenar ou calcular novas variáveis. Isso pode envolver a aplicação de funções matemáticas, conversão de tipos de dados ou aplicação de lógica condicional.\n",
    "\n",
    "**Integração de dados:** Combinar dados de várias fontes diferentes em um único conjunto de dados coerente. Isso pode envolver a união de tabelas, a concatenação de conjuntos de dados ou a resolução de diferenças nos esquemas de dados.\n",
    "\n",
    "**Formatação de dados:** Padronizar a estrutura e o formato dos dados para torná-los mais consistentes e adequados para análise. Isso pode envolver a renomeação de colunas, a conversão de unidades de medida ou a formatação de datas e horas.\n",
    "\n",
    "O *Data Wrangling* é uma etapa crítica e demorada na análise de dados, pois dados desorganizados ou não tratados podem levar a resultados imprecisos ou inválidos. Ao realizar o *Data Wrangling* de forma eficiente, os dados podem ser preparados para análise subsequente, permitindo uma compreensão mais clara e insights valiosos."
   ]
  },
  {
   "cell_type": "markdown",
   "metadata": {},
   "source": [
    "## Trabalhando com pacotes *Python*"
   ]
  },
  {
   "cell_type": "markdown",
   "metadata": {},
   "source": [
    "Em Python, os termos \"pacote\" e \"biblioteca\" são frequentemente usados de forma intercambiável, mas eles se referem a conceitos um pouco diferentes:\n",
    "\n",
    "**Biblioteca:** Uma biblioteca em Python é um conjunto de módulos e pacotes relacionados que fornecem funcionalidades específicas. Uma biblioteca é um conjunto de código reutilizável que pode ser importado e usado em outros programas Python. Por exemplo, a biblioteca numpy fornece funcionalidades para manipulação de arrays e cálculos numéricos, enquanto a biblioteca matplotlib oferece recursos de visualização de dados.\n",
    "\n",
    "**Pacote:** Um pacote em Python é uma forma organizada de estruturar módulos relacionados. Um pacote é um diretório que contém um arquivo especial chamado \"__init__.py\", que indica que o diretório é um pacote Python. Um pacote pode conter vários módulos ou subpacotes. Por exemplo, a biblioteca matplotlib é um pacote que contém subpacotes como pyplot e pylab, que fornecem funcionalidades específicas para diferentes aspectos da visualização de dados.\n",
    "\n",
    "Em resumo, uma *biblioteca é um conjunto de funcionalidades* relacionadas que podem ser importadas e usadas em um programa Python, enquanto um *pacote é uma estrutura organizada* que contém módulos e subpacotes relacionados. Geralmente, as bibliotecas são distribuídas como pacotes para facilitar a organização e o gerenciamento dos diferentes módulos e recursos."
   ]
  },
  {
   "cell_type": "markdown",
   "metadata": {},
   "source": [
    "### O ***Pip Installs Packages - 'pip'***"
   ]
  },
  {
   "cell_type": "markdown",
   "metadata": {},
   "source": [
    "O ***pip*** é um sistema de gerenciamento de pacotes usado na linguagem de programação Python. O nome \"pip\" é um acrônimo para *\"Pip Installs Packages\"* (Pip Instala Pacotes). Ele permite instalar, atualizar e gerenciar pacotes e bibliotecas adicionais que não estão incluídos na instalação padrão do Python.\n",
    "\n",
    "Com o pip, você pode facilmente instalar pacotes Python de repositórios públicos ou privados, bem como desinstalá-los quando necessário. Ele também permite a instalação de versões específicas de pacotes, a resolução de dependências entre pacotes e a busca por pacotes disponíveis.\n",
    "\n",
    "O pip é amplamente utilizado pela comunidade Python e é uma ferramenta essencial para o gerenciamento de pacotes e bibliotecas em projetos Python. Algumas tarefas comuns que você pode realizar com o pip incluem:\n",
    "\n",
    "- Instalar um pacote Python: Você pode usar o comando ***!pip install nome_do_pacote*** para baixar e instalar um pacote Python no seu ambiente;\n",
    "\n",
    "- Instalar a versão exata de um pacote Python: ***!pip install nome_do_pacote==versão_desejada***;\n",
    "\n",
    "- Atualizar um pacote Python: O comando ***pip install -U nome_pacote*** permite atualizar um pacote Python para a versão mais recente disponível.\n",
    "\n",
    "- Desinstalar um pacote Python: Com o comando ***pip uninstall nome_pacote***, você pode remover um pacote Python do seu ambiente.\n",
    "\n",
    "- Listar pacotes instalados: O comando ***pip list*** mostra uma lista dos pacotes Python instalados no seu ambiente.\n",
    "\n",
    "Obs.: \"!\" antes do comando pip diz que esse é um comando de SO."
   ]
  },
  {
   "cell_type": "markdown",
   "metadata": {},
   "source": [
    "## Instalando os pacotes do projeto"
   ]
  },
  {
   "cell_type": "code",
   "execution_count": null,
   "metadata": {},
   "outputs": [],
   "source": [
    "# Watermark: Pacote utilizado para gravar as versões de outros pacotes utilizados neste notebook.\n",
    "!pip install -q -U watermark\n",
    "\n",
    "# Pandas: Pacote utilizado para manipulação e análise de dados.\n",
    "import pandas as pd\n",
    "\n",
    "# SQLite: Pacote utilizado para interagir com bancos de dados SQLite.\n",
    "import sqlite3\n",
    "\n",
    "# iPython-SQL: Pacote utilizado para executar comandos SQL e visualizar os resultados.\n",
    "!pip install -q ipython-sql"
   ]
  },
  {
   "cell_type": "code",
   "execution_count": null,
   "metadata": {},
   "outputs": [],
   "source": [
    "# Para verificar as versões dos pacotes utilizados neste notebook.\n",
    "%reload_ext watermark\n",
    "%watermark -a \"vll.adm.br\" --iversions"
   ]
  },
  {
   "cell_type": "markdown",
   "metadata": {},
   "source": [
    "## Preparando o banco de dados"
   ]
  },
  {
   "cell_type": "code",
   "execution_count": null,
   "metadata": {},
   "outputs": [],
   "source": [
    "# Criando a conexão ao banco de dados SQLite\n",
    "cnn = sqlite3.connect('database/dbda12023.db')"
   ]
  },
  {
   "cell_type": "code",
   "execution_count": null,
   "metadata": {},
   "outputs": [],
   "source": [
    "# Criando um dataframe de teste\n",
    "dados = pd.DataFrame({\n",
    "    'fornecedor':['Cláudio Marmitas','Maria Pequena Modas','Jorge  S.A.','Grus Editora S.A.'],\n",
    "    'cnpj':['00.000.000/0000-00','00.000.001/0000-00','00.000.002/0000-00','00.000.003/0000-00'],\n",
    "    'porte':['Micro Empresa','Pequeno Porte','Grande Empresa','Grande Empresa'],\n",
    "    'municipio':['Belo Horizonte','Brasília','Campinas','São José'],\n",
    "    'Funcionários':[1,7,347,691]\n",
    "})"
   ]
  },
  {
   "cell_type": "code",
   "execution_count": null,
   "metadata": {},
   "outputs": [],
   "source": [
    "dados.head()"
   ]
  },
  {
   "cell_type": "code",
   "execution_count": null,
   "metadata": {},
   "outputs": [],
   "source": [
    "# Copiando o dataframe para o banco de dados como uma tabela\n",
    "dados.to_sql('Fornecedores_Teste', cnn)"
   ]
  },
  {
   "cell_type": "markdown",
   "metadata": {},
   "source": [
    "### Consultando o banco de dados"
   ]
  },
  {
   "cell_type": "code",
   "execution_count": null,
   "metadata": {},
   "outputs": [],
   "source": [
    "# Carregando a extensão SQL\n",
    "%load_ext sql"
   ]
  },
  {
   "cell_type": "code",
   "execution_count": null,
   "metadata": {},
   "outputs": [],
   "source": [
    "# Selecionando a base de dados\n",
    "%sql sqlite:///database/dbda12023.db"
   ]
  },
  {
   "cell_type": "code",
   "execution_count": null,
   "metadata": {},
   "outputs": [],
   "source": [
    "# Executando consulta SQL\n",
    "%sql SELECT * FROM Fornecedores_Teste"
   ]
  },
  {
   "cell_type": "code",
   "execution_count": null,
   "metadata": {},
   "outputs": [],
   "source": [
    "# Executando consulta SQL\n",
    "%sql SELECT COUNT(*) FROM Fornecedores_Teste"
   ]
  },
  {
   "cell_type": "markdown",
   "metadata": {},
   "source": [
    "## Carregando o dataset de trabalho"
   ]
  },
  {
   "cell_type": "markdown",
   "metadata": {},
   "source": [
    "Iremos trabalhar com o dataset de Cadastro de Fornecedores, disponibilizado pela Diretoria de Gestão de Licitações e Contratos da Secretaria de Estado da Administração de Santa Catarina - SEA/SC. A base de dados, atualizada em 15/06/23, encontra-se disponível em https://github.com/SmartSC-SEA/Fornecedores-cadastrados-E-LIC."
   ]
  },
  {
   "cell_type": "code",
   "execution_count": null,
   "metadata": {},
   "outputs": [],
   "source": [
    "# Criando o dataframe de trabalho\n",
    "df = pd.read_csv('datasets/fornecedores-ELIC-dados.csv')"
   ]
  },
  {
   "cell_type": "code",
   "execution_count": null,
   "metadata": {},
   "outputs": [],
   "source": [
    "# Verificando o tipo do dataframe\n",
    "type(df)"
   ]
  },
  {
   "cell_type": "code",
   "execution_count": null,
   "metadata": {},
   "outputs": [],
   "source": [
    "# Verificando o formato do dataframe\n",
    "df.shape"
   ]
  },
  {
   "cell_type": "code",
   "execution_count": null,
   "metadata": {
    "scrolled": true
   },
   "outputs": [],
   "source": [
    "# Listando os nomes dos campos\n",
    "df.columns"
   ]
  },
  {
   "cell_type": "code",
   "execution_count": null,
   "metadata": {},
   "outputs": [],
   "source": [
    "# Listando uma amostra dos dados\n",
    "df.head()"
   ]
  },
  {
   "cell_type": "code",
   "execution_count": null,
   "metadata": {
    "scrolled": true
   },
   "outputs": [],
   "source": [
    "df.tail()"
   ]
  },
  {
   "cell_type": "code",
   "execution_count": null,
   "metadata": {},
   "outputs": [],
   "source": [
    "# Copiando o dataframe para o banco de dados como uma tabela\n",
    "df.to_sql('Fornecedores_ELIC', cnn)"
   ]
  },
  {
   "cell_type": "code",
   "execution_count": null,
   "metadata": {
    "scrolled": false
   },
   "outputs": [],
   "source": [
    "%%sql\n",
    "\n",
    "SELECT * from Fornecedores_ELIC\n",
    "limit 10"
   ]
  }
 ],
 "metadata": {
  "kernelspec": {
   "display_name": "Python 3 (ipykernel)",
   "language": "python",
   "name": "python3"
  },
  "language_info": {
   "codemirror_mode": {
    "name": "ipython",
    "version": 3
   },
   "file_extension": ".py",
   "mimetype": "text/x-python",
   "name": "python",
   "nbconvert_exporter": "python",
   "pygments_lexer": "ipython3",
   "version": "3.8.5"
  }
 },
 "nbformat": 4,
 "nbformat_minor": 4
}
