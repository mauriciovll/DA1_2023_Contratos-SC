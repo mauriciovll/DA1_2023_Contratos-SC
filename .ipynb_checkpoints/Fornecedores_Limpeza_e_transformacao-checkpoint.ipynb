{
 "cells": [
  {
   "cell_type": "code",
   "execution_count": 1,
   "id": "e452bbd1",
   "metadata": {},
   "outputs": [
    {
     "name": "stdout",
     "output_type": "stream",
     "text": [
      "Versão da linguagem Python utilizada neste notebook: 3.8.5\n",
      "Arquitetura do Jupyter utilizada neste notebook: 64bit\n",
      "Autor: Maurício Vasconcellos Leão Lyrio, Dr.\n"
     ]
    }
   ],
   "source": [
    "import platform\n",
    "print('Versão da linguagem Python utilizada neste notebook:', platform.python_version())\n",
    "print('Arquitetura do Jupyter utilizada neste notebook:', platform.architecture()[0])\n",
    "print('Autor: Maurício Vasconcellos Leão Lyrio, Dr.')"
   ]
  },
  {
   "cell_type": "code",
   "execution_count": 2,
   "id": "aef49915",
   "metadata": {},
   "outputs": [],
   "source": [
    "# Imports\n",
    "# Manipulação de dados\n",
    "import pandas as pd\n",
    "import numpy as np\n",
    "\n",
    "# Ignore warning\n",
    "import sys\n",
    "import warnings\n",
    "if not sys.warnoptions:\n",
    "    warnings.simplefilter(\"ignore\")"
   ]
  },
  {
   "cell_type": "code",
   "execution_count": 3,
   "id": "b7ef618e",
   "metadata": {},
   "outputs": [],
   "source": [
    "# Criando o dataframe de trabalho\n",
    "df = pd.read_csv('datasets/ELIC_fornecedores_cadastro.csv')\n",
    "\n",
    "# Dividindo a coluna 'produtos_habilitados' em partes usando o caracter '-'\n",
    "df1 = df\n",
    "df1[['Grupo','Classe','Descricao']] = df['produtos_habilitados'].str.split(' - ',2,expand=True)\n",
    "\n",
    "# Dividindo o código do grupo-classe em duas colunas\n",
    "df2 = df1\n",
    "df2['Grupo1'] = df2['Grupo'].str[0:2]\n",
    "df2['Grupo2'] = df2['Grupo'].str[2:]\n",
    "\n",
    "# Renomeando a coluna 'Grupo' para 'Código GC'\n",
    "df2.rename(columns={'Grupo':'Código GC'}, inplace=True)\n",
    "\n",
    "# Criando as colunas de descrição do grupo e da classe\n",
    "df2['Grupo_desc'] = df2['Grupo1']+' - '+df2['Classe']\n",
    "df2['Classe_desc'] = df2['Grupo2']+' - '+df2['Descricao']\n",
    "\n",
    "# Excluindo as colunas que não utilizaremos\n",
    "df2.drop(columns=['Classe','Descricao','Grupo1','Grupo2'], inplace=True)\n",
    "\n",
    "#Renomeando as colunas de descrição de Grupo e Classe\n",
    "df2.rename(columns={'Grupo_desc':'Grupo','Classe_desc':'Classe'},inplace=True)\n",
    "\n",
    "# Gerando um arquivo csv do novo dataset df2\n",
    "df2.to_csv('./Datasets/df2_fornecedores.csv', index=False)"
   ]
  }
 ],
 "metadata": {
  "kernelspec": {
   "display_name": "Python 3 (ipykernel)",
   "language": "python",
   "name": "python3"
  },
  "language_info": {
   "codemirror_mode": {
    "name": "ipython",
    "version": 3
   },
   "file_extension": ".py",
   "mimetype": "text/x-python",
   "name": "python",
   "nbconvert_exporter": "python",
   "pygments_lexer": "ipython3",
   "version": "3.8.5"
  }
 },
 "nbformat": 4,
 "nbformat_minor": 5
}
