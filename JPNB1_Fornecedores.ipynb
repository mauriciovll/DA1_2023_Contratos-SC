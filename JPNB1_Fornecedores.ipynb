{
 "cells": [
  {
   "cell_type": "markdown",
   "id": "22df8260",
   "metadata": {},
   "source": [
    "![imagem](images/UFSC_Banner.png)"
   ]
  },
  {
   "cell_type": "markdown",
   "id": "06f266c1",
   "metadata": {},
   "source": [
    "<div style=\"font-size: 22px; text-align: center;font-weight: bold\">INTRODUÇÃO À DATA ANALYTICS PARA PESQUISA EM CONTABILIDADE</div><br>\n",
    "\n",
    "<div style=\"font-size: 18px; text-align: center;font-weight: bold\">Projeto: Análise de dados de contratos do Poder Executivo de Santa Catarina</div><br>\n",
    "\n",
    "<div style=\"font-size: 16px; text-align: center\">JPNB 01 - ETL DE DADOS DE FORNECEDORES</div>"
   ]
  },
  {
   "cell_type": "markdown",
   "id": "168ec6df",
   "metadata": {},
   "source": [
    "---\n",
    "<span style='font-size: 14px'>Elaborado por: [Maurício Vasconcellos Leão Lyrio, Dr.](https://br.linkedin.com/in/maur%C3%ADcio-vasconcellos-le%C3%A3o-lyrio-59773220) | Página Oficial: www.vll.adm.br</span>"
   ]
  },
  {
   "cell_type": "code",
   "execution_count": 1,
   "id": "deaa4660",
   "metadata": {
    "scrolled": true
   },
   "outputs": [
    {
     "name": "stdout",
     "output_type": "stream",
     "text": [
      "Versão da linguagem Python utilizada neste notebook: 3.8.5\n",
      "Arquitetura do Jupyter utilizada neste notebook: 64bit\n"
     ]
    }
   ],
   "source": [
    "# Versão da linguagem Python e arquitetura do Jupyter Notebook\n",
    "import platform\n",
    "print('Versão da linguagem Python utilizada neste notebook:', platform.python_version())\n",
    "print('Arquitetura do Jupyter utilizada neste notebook:', platform.architecture()[0])"
   ]
  },
  {
   "cell_type": "markdown",
   "id": "825ed750",
   "metadata": {},
   "source": [
    "---\n",
    "# Instalação das bibliotecas"
   ]
  },
  {
   "cell_type": "code",
   "execution_count": 2,
   "id": "5326417e",
   "metadata": {},
   "outputs": [
    {
     "name": "stdout",
     "output_type": "stream",
     "text": [
      "Author: Mauricio Vasconcellos Leão Lyrio | vll.adm.br\n",
      "\n",
      "pandas  : 1.5.3\n",
      "platform: 1.0.8\n",
      "\n"
     ]
    }
   ],
   "source": [
    "# Manipulação de dados\n",
    "import pandas as pd\n",
    "\n",
    "# Ignorar warnings\n",
    "import warnings\n",
    "warnings.filterwarnings('ignore')\n",
    "\n",
    "# Versões dos pacotes utilizados neste Jupyter notebook\n",
    "#!pip install -q -U watermark\n",
    "%reload_ext watermark\n",
    "%watermark -a \"Mauricio Vasconcellos Leão Lyrio | vll.adm.br\" --iversions"
   ]
  },
  {
   "cell_type": "markdown",
   "id": "532c988c",
   "metadata": {},
   "source": [
    "---\n",
    "# Carregamento dos datasets"
   ]
  },
  {
   "cell_type": "markdown",
   "id": "70ae7d2a",
   "metadata": {},
   "source": [
    "Para iniciar nosso processo de análise de dados iremos **carregar o dataset com os dados cadastrais de fornecedores** recebido por meio de solicitação via LAI. Esse procedimento carrega o dataset do arquivo .csv original e o armazena em um dataframe pandas denominado ***df***, para que possamos manipulá-lo posteriormente."
   ]
  },
  {
   "cell_type": "code",
   "execution_count": 3,
   "id": "c5ee4f82",
   "metadata": {},
   "outputs": [],
   "source": [
    "# Carregando o dataset de fornecedores\n",
    "df = pd.read_csv('datasets/ELIC_fornecedores_cadastro.csv')"
   ]
  },
  {
   "cell_type": "markdown",
   "id": "da184819",
   "metadata": {},
   "source": [
    "---\n",
    "# Análise exploratória dos dados"
   ]
  },
  {
   "cell_type": "markdown",
   "id": "c1aec91d",
   "metadata": {},
   "source": [
    "Após carregar o dataset damos início ao processo de análise exploratório, buscando **analisar a qualidade e integridade dos dados**. O processo de análise exploratório nos ajuda a ter uma visão geral do dataset e que tipo de pré-processamento precisaremos realizar nos dados a fim de deixá-los prontos para as etapas posteriores."
   ]
  },
  {
   "cell_type": "code",
   "execution_count": 4,
   "id": "1705407a",
   "metadata": {},
   "outputs": [
    {
     "data": {
      "text/plain": [
       "pandas.core.frame.DataFrame"
      ]
     },
     "execution_count": 4,
     "metadata": {},
     "output_type": "execute_result"
    }
   ],
   "source": [
    "# Verificando se o dataset foi carregado corretamente e seu tipo\n",
    "type(df)"
   ]
  },
  {
   "cell_type": "code",
   "execution_count": 5,
   "id": "b8f2df55",
   "metadata": {},
   "outputs": [
    {
     "data": {
      "text/plain": [
       "(358232, 8)"
      ]
     },
     "execution_count": 5,
     "metadata": {},
     "output_type": "execute_result"
    }
   ],
   "source": [
    "# Verificando o formato do dataframe\n",
    "df.shape"
   ]
  },
  {
   "cell_type": "code",
   "execution_count": 6,
   "id": "e5fbe946",
   "metadata": {},
   "outputs": [
    {
     "data": {
      "text/plain": [
       "Index(['cnpj', 'razao_social', 'porte', 'cidade', 'uf', 'pais', 'situacao',\n",
       "       'produtos_habilitados'],\n",
       "      dtype='object')"
      ]
     },
     "execution_count": 6,
     "metadata": {},
     "output_type": "execute_result"
    }
   ],
   "source": [
    "# Listando as colunas do dataframe\n",
    "df.columns"
   ]
  },
  {
   "cell_type": "code",
   "execution_count": 7,
   "id": "2b3244b0",
   "metadata": {
    "scrolled": true
   },
   "outputs": [
    {
     "name": "stdout",
     "output_type": "stream",
     "text": [
      "<class 'pandas.core.frame.DataFrame'>\n",
      "RangeIndex: 358232 entries, 0 to 358231\n",
      "Data columns (total 8 columns):\n",
      " #   Column                Non-Null Count   Dtype \n",
      "---  ------                --------------   ----- \n",
      " 0   cnpj                  358232 non-null  int64 \n",
      " 1   razao_social          358232 non-null  object\n",
      " 2   porte                 358232 non-null  object\n",
      " 3   cidade                358101 non-null  object\n",
      " 4   uf                    358101 non-null  object\n",
      " 5   pais                  358101 non-null  object\n",
      " 6   situacao              358232 non-null  object\n",
      " 7   produtos_habilitados  357273 non-null  object\n",
      "dtypes: int64(1), object(7)\n",
      "memory usage: 21.9+ MB\n"
     ]
    }
   ],
   "source": [
    "# Listando as informações gerais do dataframe\n",
    "df.info()"
   ]
  },
  {
   "cell_type": "markdown",
   "id": "783254c7",
   "metadata": {},
   "source": [
    "Até o momento conseguimos carregar os dados, verificar o tamanho do dataframe, suas colunas, o tipo de dado de cada coluna e se existem valores ausentes. Pelo info do dataframe é possível perceber que existem campos com valores nulos. Precisaremos definir o que fazer com esses campos e que tipo de tratamento iremos dar para os valores nulos, voltaremos a discutir essa questão na fase do pré-processamento de dados.\n",
    "\n",
    "Pelo info do dataframe também é possível perceber que quase todos os campos são não-numéricos. O único campo numérico é o ***cnpj***, que, na verdade, não é uma variável quantitativa e sim um código que representa o cadastro de pessoa jurídica do fornecedor. Posteriormente iremos ajustar o tipo de dado desse campo, por hora iremos somente descrever os demais campos de nosso dataset e visualizar uma amostra dos dados."
   ]
  },
  {
   "cell_type": "code",
   "execution_count": 8,
   "id": "8ea0c5b5",
   "metadata": {
    "scrolled": false
   },
   "outputs": [
    {
     "data": {
      "text/html": [
       "<div>\n",
       "<style scoped>\n",
       "    .dataframe tbody tr th:only-of-type {\n",
       "        vertical-align: middle;\n",
       "    }\n",
       "\n",
       "    .dataframe tbody tr th {\n",
       "        vertical-align: top;\n",
       "    }\n",
       "\n",
       "    .dataframe thead th {\n",
       "        text-align: right;\n",
       "    }\n",
       "</style>\n",
       "<table border=\"1\" class=\"dataframe\">\n",
       "  <thead>\n",
       "    <tr style=\"text-align: right;\">\n",
       "      <th></th>\n",
       "      <th>razao_social</th>\n",
       "      <th>porte</th>\n",
       "      <th>cidade</th>\n",
       "      <th>uf</th>\n",
       "      <th>pais</th>\n",
       "      <th>situacao</th>\n",
       "      <th>produtos_habilitados</th>\n",
       "    </tr>\n",
       "  </thead>\n",
       "  <tbody>\n",
       "    <tr>\n",
       "      <th>count</th>\n",
       "      <td>358232</td>\n",
       "      <td>358232</td>\n",
       "      <td>358101</td>\n",
       "      <td>358101</td>\n",
       "      <td>358101</td>\n",
       "      <td>358232</td>\n",
       "      <td>357273</td>\n",
       "    </tr>\n",
       "    <tr>\n",
       "      <th>unique</th>\n",
       "      <td>20121</td>\n",
       "      <td>3</td>\n",
       "      <td>1181</td>\n",
       "      <td>29</td>\n",
       "      <td>3</td>\n",
       "      <td>5</td>\n",
       "      <td>859</td>\n",
       "    </tr>\n",
       "    <tr>\n",
       "      <th>top</th>\n",
       "      <td>HAKA COMERCIAL DO BRASIL LTDA</td>\n",
       "      <td>ME/EPP</td>\n",
       "      <td>FLORIANOPOLIS</td>\n",
       "      <td>Santa Catarina</td>\n",
       "      <td>Brasil</td>\n",
       "      <td>Empresa ativa</td>\n",
       "      <td>1301 - Equipamentos, programas e suprimentos d...</td>\n",
       "    </tr>\n",
       "    <tr>\n",
       "      <th>freq</th>\n",
       "      <td>851</td>\n",
       "      <td>236367</td>\n",
       "      <td>31761</td>\n",
       "      <td>173193</td>\n",
       "      <td>358082</td>\n",
       "      <td>256961</td>\n",
       "      <td>2697</td>\n",
       "    </tr>\n",
       "  </tbody>\n",
       "</table>\n",
       "</div>"
      ],
      "text/plain": [
       "                         razao_social   porte         cidade              uf  \\\n",
       "count                          358232  358232         358101          358101   \n",
       "unique                          20121       3           1181              29   \n",
       "top     HAKA COMERCIAL DO BRASIL LTDA  ME/EPP  FLORIANOPOLIS  Santa Catarina   \n",
       "freq                              851  236367          31761          173193   \n",
       "\n",
       "          pais       situacao  \\\n",
       "count   358101         358232   \n",
       "unique       3              5   \n",
       "top     Brasil  Empresa ativa   \n",
       "freq    358082         256961   \n",
       "\n",
       "                                     produtos_habilitados  \n",
       "count                                              357273  \n",
       "unique                                                859  \n",
       "top     1301 - Equipamentos, programas e suprimentos d...  \n",
       "freq                                                 2697  "
      ]
     },
     "execution_count": 8,
     "metadata": {},
     "output_type": "execute_result"
    }
   ],
   "source": [
    "# Descrevendo os dados não-numéricos\n",
    "df.describe(include=object)"
   ]
  },
  {
   "cell_type": "code",
   "execution_count": 12,
   "id": "e9555f09",
   "metadata": {},
   "outputs": [
    {
     "data": {
      "text/html": [
       "<div>\n",
       "<style scoped>\n",
       "    .dataframe tbody tr th:only-of-type {\n",
       "        vertical-align: middle;\n",
       "    }\n",
       "\n",
       "    .dataframe tbody tr th {\n",
       "        vertical-align: top;\n",
       "    }\n",
       "\n",
       "    .dataframe thead th {\n",
       "        text-align: right;\n",
       "    }\n",
       "</style>\n",
       "<table border=\"1\" class=\"dataframe\">\n",
       "  <thead>\n",
       "    <tr style=\"text-align: right;\">\n",
       "      <th></th>\n",
       "      <th>cnpj</th>\n",
       "      <th>razao_social</th>\n",
       "      <th>porte</th>\n",
       "      <th>cidade</th>\n",
       "      <th>uf</th>\n",
       "      <th>pais</th>\n",
       "      <th>situacao</th>\n",
       "      <th>produtos_habilitados</th>\n",
       "    </tr>\n",
       "  </thead>\n",
       "  <tbody>\n",
       "    <tr>\n",
       "      <th>358227</th>\n",
       "      <td>45683229000106</td>\n",
       "      <td>ALVES &amp; VALVERDE CORRETORA DE SEGUROS LTDA</td>\n",
       "      <td>ME/EPP</td>\n",
       "      <td>FLORIANOPOLIS</td>\n",
       "      <td>Santa Catarina</td>\n",
       "      <td>Brasil</td>\n",
       "      <td>Empresa em configuração</td>\n",
       "      <td>NaN</td>\n",
       "    </tr>\n",
       "    <tr>\n",
       "      <th>358228</th>\n",
       "      <td>17853825000151</td>\n",
       "      <td>U W DA SILVA FERREIRA</td>\n",
       "      <td>ME/EPP</td>\n",
       "      <td>BELEM</td>\n",
       "      <td>Pará</td>\n",
       "      <td>Brasil</td>\n",
       "      <td>Empresa em configuração</td>\n",
       "      <td>NaN</td>\n",
       "    </tr>\n",
       "    <tr>\n",
       "      <th>358229</th>\n",
       "      <td>8181835948</td>\n",
       "      <td>PRISCILA ARAÚJO</td>\n",
       "      <td>GRANDE PORTE</td>\n",
       "      <td>FLORIANOPOLIS</td>\n",
       "      <td>Santa Catarina</td>\n",
       "      <td>Brasil</td>\n",
       "      <td>Empresa em configuração</td>\n",
       "      <td>NaN</td>\n",
       "    </tr>\n",
       "    <tr>\n",
       "      <th>358230</th>\n",
       "      <td>31762716000150</td>\n",
       "      <td>RFP MAQUINAS E EMPREENDIMENTOS LTDA EPP</td>\n",
       "      <td>ME/EPP</td>\n",
       "      <td>FRANCA</td>\n",
       "      <td>São Paulo</td>\n",
       "      <td>Brasil</td>\n",
       "      <td>Empresa em configuração</td>\n",
       "      <td>NaN</td>\n",
       "    </tr>\n",
       "    <tr>\n",
       "      <th>358231</th>\n",
       "      <td>12959355000191</td>\n",
       "      <td>BLUE ALIMENTOS LTDA</td>\n",
       "      <td>GRANDE PORTE</td>\n",
       "      <td>GUARAMIRIM</td>\n",
       "      <td>Santa Catarina</td>\n",
       "      <td>Brasil</td>\n",
       "      <td>Empresa em configuração</td>\n",
       "      <td>NaN</td>\n",
       "    </tr>\n",
       "  </tbody>\n",
       "</table>\n",
       "</div>"
      ],
      "text/plain": [
       "                  cnpj                                razao_social  \\\n",
       "358227  45683229000106  ALVES & VALVERDE CORRETORA DE SEGUROS LTDA   \n",
       "358228  17853825000151                       U W DA SILVA FERREIRA   \n",
       "358229      8181835948                             PRISCILA ARAÚJO   \n",
       "358230  31762716000150     RFP MAQUINAS E EMPREENDIMENTOS LTDA EPP   \n",
       "358231  12959355000191                         BLUE ALIMENTOS LTDA   \n",
       "\n",
       "               porte         cidade              uf    pais  \\\n",
       "358227        ME/EPP  FLORIANOPOLIS  Santa Catarina  Brasil   \n",
       "358228        ME/EPP          BELEM            Pará  Brasil   \n",
       "358229  GRANDE PORTE  FLORIANOPOLIS  Santa Catarina  Brasil   \n",
       "358230        ME/EPP         FRANCA       São Paulo  Brasil   \n",
       "358231  GRANDE PORTE     GUARAMIRIM  Santa Catarina  Brasil   \n",
       "\n",
       "                       situacao produtos_habilitados  \n",
       "358227  Empresa em configuração                  NaN  \n",
       "358228  Empresa em configuração                  NaN  \n",
       "358229  Empresa em configuração                  NaN  \n",
       "358230  Empresa em configuração                  NaN  \n",
       "358231  Empresa em configuração                  NaN  "
      ]
     },
     "execution_count": 12,
     "metadata": {},
     "output_type": "execute_result"
    }
   ],
   "source": [
    "df.tail()"
   ]
  },
  {
   "cell_type": "markdown",
   "id": "d51cc9f6",
   "metadata": {},
   "source": [
    "Com a visualização de uma amostra do dataset finalizamos a análise exploratória. Outros tipos de análise poderiam ser feitos nessa fase, porém, para nosso objetivo de preparar o dataset o que vimos até agora é suficiente. Passemos então à próxima fase do processo, o pré-processamento dos dados."
   ]
  },
  {
   "cell_type": "markdown",
   "id": "51d56af5",
   "metadata": {},
   "source": [
    "---\n",
    "# Pré-processamento"
   ]
  },
  {
   "cell_type": "markdown",
   "id": "065ea1f0",
   "metadata": {},
   "source": [
    "Na fase de análise exploratória identificamos que nosso dataset possui campos nulos e também que um dos campos foi definido de forma equivocada como numérico. Vamos agora tratar esses problemas e também analisar a necessidade de outros tipos de transformação de dados. Comecemos com a limpeza dos dados."
   ]
  },
  {
   "cell_type": "markdown",
   "id": "a8a88ef1",
   "metadata": {},
   "source": [
    "## Limpeza"
   ]
  },
  {
   "cell_type": "markdown",
   "id": "ceb16944",
   "metadata": {},
   "source": [
    "Conforme visto anteriormente, nosso dataset possui uma série de campos com valores nulos. Vamos analisar melhor essa situação e definir o que fazer com esses valores. para isso criaremos uma nova **tabela com a distribuição percentual de valores nulos por coluna**."
   ]
  },
  {
   "cell_type": "code",
   "execution_count": 13,
   "id": "28d87929",
   "metadata": {},
   "outputs": [
    {
     "name": "stdout",
     "output_type": "stream",
     "text": [
      "                 Coluna    Tipo  Q Nulo    % Nulo\n",
      "0                  cnpj   int64       0  0.000000\n",
      "1          razao_social  object       0  0.000000\n",
      "2                 porte  object       0  0.000000\n",
      "3                cidade  object     131  0.036568\n",
      "4                    uf  object     131  0.036568\n",
      "5                  pais  object     131  0.036568\n",
      "6              situacao  object       0  0.000000\n",
      "7  produtos_habilitados  object     959  0.267704\n"
     ]
    }
   ],
   "source": [
    "# Criando uma lista vazia para armazenar as informações de nome e tipo de coluna.\n",
    "colunas_info = []\n",
    "\n",
    "# Iterando pelas colunas do dataframe\n",
    "for coluna in df.columns:\n",
    "    coluna_nome = coluna\n",
    "    coluna_tipo = df[coluna].dtype\n",
    "    coluna_nulos = df[coluna].isnull().sum()\n",
    "    coluna_nulos_perc = (coluna_nulos/len(df))*100\n",
    "    colunas_info.append((coluna_nome,coluna_tipo,coluna_nulos,coluna_nulos_perc))\n",
    "                        \n",
    "# Criando um novo dataframe e exibindo as informações das colunas\n",
    "df_colunas_info = pd.DataFrame(colunas_info, columns=['Coluna','Tipo','Q Nulo', '% Nulo'])\n",
    "print(df_colunas_info)"
   ]
  },
  {
   "cell_type": "markdown",
   "id": "690586b4",
   "metadata": {},
   "source": [
    "Com a nova tabela fica mais fácil evidenciar os valores ausentes do dataframe. No caso, as colunas ***cidade***, ***uf***, ***pais*** e ***produtos_habilitados*** apresentam valores ausentes. Em projetos de datascience, em geral, utiliza-se como regra para tratamento de valores ausentes as seguintes opções:\n",
    "\n",
    "- Para valores ausentes >= 50%, descartamos a variável;\n",
    "- Para valores ausentes < 50%, tratar os valores ausentes;\n",
    "- Para valores ausentes < 2%, descartar os valores ausentes.\n",
    "\n",
    "Apesar dessa regra geral, é importante analisar o dataframe e verificar a forma mais adequada para tratamento dos valores ausentes e, principalmente, justificar as escolhas feitas no decorrer do tratamento dos dados. Em nosso caso, **como os valores ausentes são menos de 2% dos valores dos campos vamos excluí-los**. Porém, vale salientar que, ao excluir os registros cujos campos estão ausentes perdemos parte da informação no dataset, vale refletir sobre a relevância da perda dessa informação.\n",
    "\n",
    "Nesse caso, como os registros no dataset estão com granularidade definida em nível de produtos habilitados, acredita-se que os dados básicos dos fornecedores não serão perdidos devido à exclusão desses registros."
   ]
  },
  {
   "cell_type": "code",
   "execution_count": 14,
   "id": "f98d0938",
   "metadata": {},
   "outputs": [],
   "source": [
    "# Criando uma cópia do dataframe original e excluindo os registros com valores nulos.\n",
    "df1 = df.dropna()"
   ]
  },
  {
   "cell_type": "code",
   "execution_count": 15,
   "id": "efd9f720",
   "metadata": {
    "scrolled": true
   },
   "outputs": [
    {
     "data": {
      "text/plain": [
       "cnpj                    0\n",
       "razao_social            0\n",
       "porte                   0\n",
       "cidade                  0\n",
       "uf                      0\n",
       "pais                    0\n",
       "situacao                0\n",
       "produtos_habilitados    0\n",
       "dtype: int64"
      ]
     },
     "execution_count": 15,
     "metadata": {},
     "output_type": "execute_result"
    }
   ],
   "source": [
    "df1.isnull().sum()"
   ]
  },
  {
   "cell_type": "markdown",
   "id": "be4e9dea",
   "metadata": {},
   "source": [
    "Temos agora um novo dataframe ***df1*** com os registros com valore ausentes excluídos. Mantivemos em memória o dataset original para o caso de queremos retornar à essa versão em outro momento. Passemos agora à tranformação dos dados."
   ]
  },
  {
   "cell_type": "markdown",
   "id": "bc9bd8b6",
   "metadata": {},
   "source": [
    "## Transformação"
   ]
  },
  {
   "cell_type": "markdown",
   "id": "973e0ceb",
   "metadata": {},
   "source": [
    "### Ajustando a coluna de CNPJ"
   ]
  },
  {
   "cell_type": "markdown",
   "id": "37eb4a49",
   "metadata": {},
   "source": [
    "Iniciaremos nossa fase de transformação de dados ajustando o tipo de dado referente à coluna ***cnpj*** do fornecedor. Conforme verificamos anteriormente, essa ***coluna foi definida como numérica***, do tipo int64, porém, por se tratar de um código de referência de cada fornecedor, ela na verdade é categórica. Além disso, ***o registro do CNPJ não está no padrão normal***, faltando os separadores. Vamos ajustar esses valores agora."
   ]
  },
  {
   "cell_type": "code",
   "execution_count": 16,
   "id": "bf9fdbb2",
   "metadata": {},
   "outputs": [
    {
     "data": {
      "text/html": [
       "<div>\n",
       "<style scoped>\n",
       "    .dataframe tbody tr th:only-of-type {\n",
       "        vertical-align: middle;\n",
       "    }\n",
       "\n",
       "    .dataframe tbody tr th {\n",
       "        vertical-align: top;\n",
       "    }\n",
       "\n",
       "    .dataframe thead th {\n",
       "        text-align: right;\n",
       "    }\n",
       "</style>\n",
       "<table border=\"1\" class=\"dataframe\">\n",
       "  <thead>\n",
       "    <tr style=\"text-align: right;\">\n",
       "      <th></th>\n",
       "      <th>cnpj</th>\n",
       "      <th>razao_social</th>\n",
       "      <th>porte</th>\n",
       "      <th>cidade</th>\n",
       "      <th>uf</th>\n",
       "      <th>pais</th>\n",
       "      <th>situacao</th>\n",
       "      <th>produtos_habilitados</th>\n",
       "    </tr>\n",
       "  </thead>\n",
       "  <tbody>\n",
       "    <tr>\n",
       "      <th>0</th>\n",
       "      <td>06.942.591/0001-00</td>\n",
       "      <td>MCG AGUIAR CARTUCHOS ME</td>\n",
       "      <td>ME/EPP</td>\n",
       "      <td>SAO JOSE DO RIO PRETO</td>\n",
       "      <td>São Paulo</td>\n",
       "      <td>Brasil</td>\n",
       "      <td>Empresa ativa</td>\n",
       "      <td>1303 - Equipamentos, programas e suprimentos d...</td>\n",
       "    </tr>\n",
       "    <tr>\n",
       "      <th>1</th>\n",
       "      <td>05.325.332/0001-60</td>\n",
       "      <td>Global Multimídia Comércio de Eletroeletrônico...</td>\n",
       "      <td>ME/EPP</td>\n",
       "      <td>SAO PAULO</td>\n",
       "      <td>São Paulo</td>\n",
       "      <td>Brasil</td>\n",
       "      <td>Empresa ativa</td>\n",
       "      <td>1303 - Equipamentos, programas e suprimentos d...</td>\n",
       "    </tr>\n",
       "    <tr>\n",
       "      <th>2</th>\n",
       "      <td>09.349.162/0001-04</td>\n",
       "      <td>TEXAS INFORMATICA E PRODUTOS LTDA. EPP</td>\n",
       "      <td>NÃO INFORMADO</td>\n",
       "      <td>VITORIA</td>\n",
       "      <td>Espírito Santo</td>\n",
       "      <td>Brasil</td>\n",
       "      <td>Empresa ativa</td>\n",
       "      <td>1303 - Equipamentos, programas e suprimentos d...</td>\n",
       "    </tr>\n",
       "    <tr>\n",
       "      <th>3</th>\n",
       "      <td>13.000.035/0001-72</td>\n",
       "      <td>TARCIANE LOHN BOECHAT EPP</td>\n",
       "      <td>ME/EPP</td>\n",
       "      <td>SANTO AMARO DA IMPERATRIZ</td>\n",
       "      <td>Santa Catarina</td>\n",
       "      <td>Brasil</td>\n",
       "      <td>Empresa ativa</td>\n",
       "      <td>1303 - Equipamentos, programas e suprimentos d...</td>\n",
       "    </tr>\n",
       "    <tr>\n",
       "      <th>4</th>\n",
       "      <td>73.977.480/0001-19</td>\n",
       "      <td>COMERCIAL STORINNY LTDA EPP</td>\n",
       "      <td>ME/EPP</td>\n",
       "      <td>PORTO BELO</td>\n",
       "      <td>Santa Catarina</td>\n",
       "      <td>Brasil</td>\n",
       "      <td>Empresa ativa</td>\n",
       "      <td>1303 - Equipamentos, programas e suprimentos d...</td>\n",
       "    </tr>\n",
       "  </tbody>\n",
       "</table>\n",
       "</div>"
      ],
      "text/plain": [
       "                 cnpj                                       razao_social  \\\n",
       "0  06.942.591/0001-00                            MCG AGUIAR CARTUCHOS ME   \n",
       "1  05.325.332/0001-60  Global Multimídia Comércio de Eletroeletrônico...   \n",
       "2  09.349.162/0001-04             TEXAS INFORMATICA E PRODUTOS LTDA. EPP   \n",
       "3  13.000.035/0001-72                          TARCIANE LOHN BOECHAT EPP   \n",
       "4  73.977.480/0001-19                        COMERCIAL STORINNY LTDA EPP   \n",
       "\n",
       "           porte                     cidade              uf    pais  \\\n",
       "0         ME/EPP      SAO JOSE DO RIO PRETO       São Paulo  Brasil   \n",
       "1         ME/EPP                  SAO PAULO       São Paulo  Brasil   \n",
       "2  NÃO INFORMADO                    VITORIA  Espírito Santo  Brasil   \n",
       "3         ME/EPP  SANTO AMARO DA IMPERATRIZ  Santa Catarina  Brasil   \n",
       "4         ME/EPP                 PORTO BELO  Santa Catarina  Brasil   \n",
       "\n",
       "        situacao                               produtos_habilitados  \n",
       "0  Empresa ativa  1303 - Equipamentos, programas e suprimentos d...  \n",
       "1  Empresa ativa  1303 - Equipamentos, programas e suprimentos d...  \n",
       "2  Empresa ativa  1303 - Equipamentos, programas e suprimentos d...  \n",
       "3  Empresa ativa  1303 - Equipamentos, programas e suprimentos d...  \n",
       "4  Empresa ativa  1303 - Equipamentos, programas e suprimentos d...  "
      ]
     },
     "execution_count": 16,
     "metadata": {},
     "output_type": "execute_result"
    }
   ],
   "source": [
    "'''\n",
    "Alterando o tipo de dado da coluna CNPJ, normalizando os registros,\n",
    "criando uma máscara para os valores e atualizando o dataframe\n",
    "'''\n",
    "for i, cnpj in enumerate(df1['cnpj']):\n",
    "    # Convertendo para string antes de verificar o comprimento\n",
    "    cnpj_str = str(cnpj)\n",
    "    \n",
    "    # Se o registro tiver menos de 14 caracteres\n",
    "    if len(cnpj_str) < 14:\n",
    "        # Incluir '0' no início até que o registro tenha 14 caracteres\n",
    "        df1.at[i, 'cnpj'] = '0' * (14 - len(cnpj_str)) + cnpj_str\n",
    "\n",
    "# Transformar o padrão do registro para padrão de CNPJ\n",
    "df1['cnpj'] = df1['cnpj'].astype(str).apply(lambda x: f'{x[:2]}.{x[2:5]}.{x[5:8]}/{x[8:12]}-{x[12:]}')\n",
    "df1.head()"
   ]
  },
  {
   "cell_type": "code",
   "execution_count": 17,
   "id": "aa7336e9",
   "metadata": {},
   "outputs": [
    {
     "name": "stdout",
     "output_type": "stream",
     "text": [
      "<class 'pandas.core.frame.DataFrame'>\n",
      "Int64Index: 357184 entries, 0 to 334110\n",
      "Data columns (total 8 columns):\n",
      " #   Column                Non-Null Count   Dtype \n",
      "---  ------                --------------   ----- \n",
      " 0   cnpj                  357184 non-null  object\n",
      " 1   razao_social          357143 non-null  object\n",
      " 2   porte                 357143 non-null  object\n",
      " 3   cidade                357143 non-null  object\n",
      " 4   uf                    357143 non-null  object\n",
      " 5   pais                  357143 non-null  object\n",
      " 6   situacao              357143 non-null  object\n",
      " 7   produtos_habilitados  357143 non-null  object\n",
      "dtypes: object(8)\n",
      "memory usage: 32.6+ MB\n"
     ]
    }
   ],
   "source": [
    "df1.info()"
   ]
  },
  {
   "cell_type": "markdown",
   "id": "5ca1af2c",
   "metadata": {},
   "source": [
    "### Criando novas colunas para produtos habilitados"
   ]
  },
  {
   "cell_type": "markdown",
   "id": "b2759083",
   "metadata": {},
   "source": [
    "Conforme evidenciado acima, agora todos os campos de nosso dataset são campos categóricos e poderemos utilizar os métodos de string para a coluna. Dando sequência á transformação de dados, analisando a coluna ***produtos_habilitados*** percebemos que essa coluna apresenta a informação dos produtos concatenando duas informações, o grupo e a classe do produto.\n",
    "\n",
    "Esse tipo de conhecimento é o que chamamos de conhecimento de negócio, ou seja, para perceber esses nuances nos dados o analista precisa conhecer pelo menos um pouco da área de negócio sobre a qual está trabalhando, dessa forma a possibilidade de ter insights úteis em relação ao tópico aumenta, aprimorando as possibilidades de análise.\n",
    "\n",
    "Iremos separar a coluna de ***produtos_habilitados*** em duas colunas, a primeira para armazenar os grupos de produtos e a segunda para armazenar a classe dos produtos."
   ]
  },
  {
   "cell_type": "code",
   "execution_count": 18,
   "id": "990eac2d",
   "metadata": {
    "scrolled": true
   },
   "outputs": [
    {
     "data": {
      "text/plain": [
       "0    1303 - Equipamentos, programas e suprimentos de informática - Cartuchos de tinta e toner para impressoras\n",
       "1    1303 - Equipamentos, programas e suprimentos de informática - Cartuchos de tinta e toner para impressoras\n",
       "2    1303 - Equipamentos, programas e suprimentos de informática - Cartuchos de tinta e toner para impressoras\n",
       "3    1303 - Equipamentos, programas e suprimentos de informática - Cartuchos de tinta e toner para impressoras\n",
       "4    1303 - Equipamentos, programas e suprimentos de informática - Cartuchos de tinta e toner para impressoras\n",
       "Name: produtos_habilitados, dtype: object"
      ]
     },
     "execution_count": 18,
     "metadata": {},
     "output_type": "execute_result"
    }
   ],
   "source": [
    "# Setando a saída para mostrar todo o comprimento da linha\n",
    "pd.set_option('display.max_colwidth', None)\n",
    "# Imprimindo a amostra de dados da coluna 'produtos_habilitados'\n",
    "df1['produtos_habilitados'].head()"
   ]
  },
  {
   "cell_type": "code",
   "execution_count": 19,
   "id": "16342e26",
   "metadata": {},
   "outputs": [
    {
     "data": {
      "text/html": [
       "<div>\n",
       "<style scoped>\n",
       "    .dataframe tbody tr th:only-of-type {\n",
       "        vertical-align: middle;\n",
       "    }\n",
       "\n",
       "    .dataframe tbody tr th {\n",
       "        vertical-align: top;\n",
       "    }\n",
       "\n",
       "    .dataframe thead th {\n",
       "        text-align: right;\n",
       "    }\n",
       "</style>\n",
       "<table border=\"1\" class=\"dataframe\">\n",
       "  <thead>\n",
       "    <tr style=\"text-align: right;\">\n",
       "      <th></th>\n",
       "      <th>cnpj</th>\n",
       "      <th>razao_social</th>\n",
       "      <th>porte</th>\n",
       "      <th>cidade</th>\n",
       "      <th>uf</th>\n",
       "      <th>pais</th>\n",
       "      <th>situacao</th>\n",
       "      <th>produtos_habilitados</th>\n",
       "      <th>Grupo</th>\n",
       "      <th>Classe</th>\n",
       "      <th>Descrição</th>\n",
       "    </tr>\n",
       "  </thead>\n",
       "  <tbody>\n",
       "    <tr>\n",
       "      <th>0</th>\n",
       "      <td>06.942.591/0001-00</td>\n",
       "      <td>MCG AGUIAR CARTUCHOS ME</td>\n",
       "      <td>ME/EPP</td>\n",
       "      <td>SAO JOSE DO RIO PRETO</td>\n",
       "      <td>São Paulo</td>\n",
       "      <td>Brasil</td>\n",
       "      <td>Empresa ativa</td>\n",
       "      <td>1303 - Equipamentos, programas e suprimentos de informática - Cartuchos de tinta e toner para impressoras</td>\n",
       "      <td>1303</td>\n",
       "      <td>Equipamentos, programas e suprimentos de informática</td>\n",
       "      <td>Cartuchos de tinta e toner para impressoras</td>\n",
       "    </tr>\n",
       "    <tr>\n",
       "      <th>1</th>\n",
       "      <td>05.325.332/0001-60</td>\n",
       "      <td>Global Multimídia Comércio de Eletroeletrônicos Ltda</td>\n",
       "      <td>ME/EPP</td>\n",
       "      <td>SAO PAULO</td>\n",
       "      <td>São Paulo</td>\n",
       "      <td>Brasil</td>\n",
       "      <td>Empresa ativa</td>\n",
       "      <td>1303 - Equipamentos, programas e suprimentos de informática - Cartuchos de tinta e toner para impressoras</td>\n",
       "      <td>1303</td>\n",
       "      <td>Equipamentos, programas e suprimentos de informática</td>\n",
       "      <td>Cartuchos de tinta e toner para impressoras</td>\n",
       "    </tr>\n",
       "  </tbody>\n",
       "</table>\n",
       "</div>"
      ],
      "text/plain": [
       "                 cnpj                                          razao_social  \\\n",
       "0  06.942.591/0001-00                               MCG AGUIAR CARTUCHOS ME   \n",
       "1  05.325.332/0001-60  Global Multimídia Comércio de Eletroeletrônicos Ltda   \n",
       "\n",
       "    porte                 cidade         uf    pais       situacao  \\\n",
       "0  ME/EPP  SAO JOSE DO RIO PRETO  São Paulo  Brasil  Empresa ativa   \n",
       "1  ME/EPP              SAO PAULO  São Paulo  Brasil  Empresa ativa   \n",
       "\n",
       "                                                                                        produtos_habilitados  \\\n",
       "0  1303 - Equipamentos, programas e suprimentos de informática - Cartuchos de tinta e toner para impressoras   \n",
       "1  1303 - Equipamentos, programas e suprimentos de informática - Cartuchos de tinta e toner para impressoras   \n",
       "\n",
       "  Grupo                                                Classe  \\\n",
       "0  1303  Equipamentos, programas e suprimentos de informática   \n",
       "1  1303  Equipamentos, programas e suprimentos de informática   \n",
       "\n",
       "                                     Descrição  \n",
       "0  Cartuchos de tinta e toner para impressoras  \n",
       "1  Cartuchos de tinta e toner para impressoras  "
      ]
     },
     "execution_count": 19,
     "metadata": {},
     "output_type": "execute_result"
    }
   ],
   "source": [
    "# Criando as novas colunas e separando os registros da coluna original\n",
    "df1[['Grupo','Classe','Descrição']] = df1['produtos_habilitados'].str.split(' - ',2,expand=True)\n",
    "df1.head(2)"
   ]
  },
  {
   "cell_type": "code",
   "execution_count": 20,
   "id": "3290f42d",
   "metadata": {},
   "outputs": [
    {
     "data": {
      "text/html": [
       "<div>\n",
       "<style scoped>\n",
       "    .dataframe tbody tr th:only-of-type {\n",
       "        vertical-align: middle;\n",
       "    }\n",
       "\n",
       "    .dataframe tbody tr th {\n",
       "        vertical-align: top;\n",
       "    }\n",
       "\n",
       "    .dataframe thead th {\n",
       "        text-align: right;\n",
       "    }\n",
       "</style>\n",
       "<table border=\"1\" class=\"dataframe\">\n",
       "  <thead>\n",
       "    <tr style=\"text-align: right;\">\n",
       "      <th></th>\n",
       "      <th>cnpj</th>\n",
       "      <th>razao_social</th>\n",
       "      <th>porte</th>\n",
       "      <th>cidade</th>\n",
       "      <th>uf</th>\n",
       "      <th>pais</th>\n",
       "      <th>situacao</th>\n",
       "      <th>produtos_habilitados</th>\n",
       "      <th>Código GC</th>\n",
       "      <th>Classe</th>\n",
       "      <th>Descrição</th>\n",
       "      <th>Grupo1</th>\n",
       "      <th>Grupo2</th>\n",
       "      <th>Grupo_desc</th>\n",
       "      <th>Classe_desc</th>\n",
       "    </tr>\n",
       "  </thead>\n",
       "  <tbody>\n",
       "    <tr>\n",
       "      <th>0</th>\n",
       "      <td>06.942.591/0001-00</td>\n",
       "      <td>MCG AGUIAR CARTUCHOS ME</td>\n",
       "      <td>ME/EPP</td>\n",
       "      <td>SAO JOSE DO RIO PRETO</td>\n",
       "      <td>São Paulo</td>\n",
       "      <td>Brasil</td>\n",
       "      <td>Empresa ativa</td>\n",
       "      <td>1303 - Equipamentos, programas e suprimentos de informática - Cartuchos de tinta e toner para impressoras</td>\n",
       "      <td>1303</td>\n",
       "      <td>Equipamentos, programas e suprimentos de informática</td>\n",
       "      <td>Cartuchos de tinta e toner para impressoras</td>\n",
       "      <td>13</td>\n",
       "      <td>03</td>\n",
       "      <td>13 - Equipamentos, programas e suprimentos de informática</td>\n",
       "      <td>03 - Cartuchos de tinta e toner para impressoras</td>\n",
       "    </tr>\n",
       "    <tr>\n",
       "      <th>1</th>\n",
       "      <td>05.325.332/0001-60</td>\n",
       "      <td>Global Multimídia Comércio de Eletroeletrônicos Ltda</td>\n",
       "      <td>ME/EPP</td>\n",
       "      <td>SAO PAULO</td>\n",
       "      <td>São Paulo</td>\n",
       "      <td>Brasil</td>\n",
       "      <td>Empresa ativa</td>\n",
       "      <td>1303 - Equipamentos, programas e suprimentos de informática - Cartuchos de tinta e toner para impressoras</td>\n",
       "      <td>1303</td>\n",
       "      <td>Equipamentos, programas e suprimentos de informática</td>\n",
       "      <td>Cartuchos de tinta e toner para impressoras</td>\n",
       "      <td>13</td>\n",
       "      <td>03</td>\n",
       "      <td>13 - Equipamentos, programas e suprimentos de informática</td>\n",
       "      <td>03 - Cartuchos de tinta e toner para impressoras</td>\n",
       "    </tr>\n",
       "    <tr>\n",
       "      <th>2</th>\n",
       "      <td>09.349.162/0001-04</td>\n",
       "      <td>TEXAS INFORMATICA E PRODUTOS LTDA. EPP</td>\n",
       "      <td>NÃO INFORMADO</td>\n",
       "      <td>VITORIA</td>\n",
       "      <td>Espírito Santo</td>\n",
       "      <td>Brasil</td>\n",
       "      <td>Empresa ativa</td>\n",
       "      <td>1303 - Equipamentos, programas e suprimentos de informática - Cartuchos de tinta e toner para impressoras</td>\n",
       "      <td>1303</td>\n",
       "      <td>Equipamentos, programas e suprimentos de informática</td>\n",
       "      <td>Cartuchos de tinta e toner para impressoras</td>\n",
       "      <td>13</td>\n",
       "      <td>03</td>\n",
       "      <td>13 - Equipamentos, programas e suprimentos de informática</td>\n",
       "      <td>03 - Cartuchos de tinta e toner para impressoras</td>\n",
       "    </tr>\n",
       "    <tr>\n",
       "      <th>3</th>\n",
       "      <td>13.000.035/0001-72</td>\n",
       "      <td>TARCIANE LOHN BOECHAT EPP</td>\n",
       "      <td>ME/EPP</td>\n",
       "      <td>SANTO AMARO DA IMPERATRIZ</td>\n",
       "      <td>Santa Catarina</td>\n",
       "      <td>Brasil</td>\n",
       "      <td>Empresa ativa</td>\n",
       "      <td>1303 - Equipamentos, programas e suprimentos de informática - Cartuchos de tinta e toner para impressoras</td>\n",
       "      <td>1303</td>\n",
       "      <td>Equipamentos, programas e suprimentos de informática</td>\n",
       "      <td>Cartuchos de tinta e toner para impressoras</td>\n",
       "      <td>13</td>\n",
       "      <td>03</td>\n",
       "      <td>13 - Equipamentos, programas e suprimentos de informática</td>\n",
       "      <td>03 - Cartuchos de tinta e toner para impressoras</td>\n",
       "    </tr>\n",
       "    <tr>\n",
       "      <th>4</th>\n",
       "      <td>73.977.480/0001-19</td>\n",
       "      <td>COMERCIAL STORINNY LTDA EPP</td>\n",
       "      <td>ME/EPP</td>\n",
       "      <td>PORTO BELO</td>\n",
       "      <td>Santa Catarina</td>\n",
       "      <td>Brasil</td>\n",
       "      <td>Empresa ativa</td>\n",
       "      <td>1303 - Equipamentos, programas e suprimentos de informática - Cartuchos de tinta e toner para impressoras</td>\n",
       "      <td>1303</td>\n",
       "      <td>Equipamentos, programas e suprimentos de informática</td>\n",
       "      <td>Cartuchos de tinta e toner para impressoras</td>\n",
       "      <td>13</td>\n",
       "      <td>03</td>\n",
       "      <td>13 - Equipamentos, programas e suprimentos de informática</td>\n",
       "      <td>03 - Cartuchos de tinta e toner para impressoras</td>\n",
       "    </tr>\n",
       "  </tbody>\n",
       "</table>\n",
       "</div>"
      ],
      "text/plain": [
       "                 cnpj                                          razao_social  \\\n",
       "0  06.942.591/0001-00                               MCG AGUIAR CARTUCHOS ME   \n",
       "1  05.325.332/0001-60  Global Multimídia Comércio de Eletroeletrônicos Ltda   \n",
       "2  09.349.162/0001-04                TEXAS INFORMATICA E PRODUTOS LTDA. EPP   \n",
       "3  13.000.035/0001-72                             TARCIANE LOHN BOECHAT EPP   \n",
       "4  73.977.480/0001-19                           COMERCIAL STORINNY LTDA EPP   \n",
       "\n",
       "           porte                     cidade              uf    pais  \\\n",
       "0         ME/EPP      SAO JOSE DO RIO PRETO       São Paulo  Brasil   \n",
       "1         ME/EPP                  SAO PAULO       São Paulo  Brasil   \n",
       "2  NÃO INFORMADO                    VITORIA  Espírito Santo  Brasil   \n",
       "3         ME/EPP  SANTO AMARO DA IMPERATRIZ  Santa Catarina  Brasil   \n",
       "4         ME/EPP                 PORTO BELO  Santa Catarina  Brasil   \n",
       "\n",
       "        situacao  \\\n",
       "0  Empresa ativa   \n",
       "1  Empresa ativa   \n",
       "2  Empresa ativa   \n",
       "3  Empresa ativa   \n",
       "4  Empresa ativa   \n",
       "\n",
       "                                                                                        produtos_habilitados  \\\n",
       "0  1303 - Equipamentos, programas e suprimentos de informática - Cartuchos de tinta e toner para impressoras   \n",
       "1  1303 - Equipamentos, programas e suprimentos de informática - Cartuchos de tinta e toner para impressoras   \n",
       "2  1303 - Equipamentos, programas e suprimentos de informática - Cartuchos de tinta e toner para impressoras   \n",
       "3  1303 - Equipamentos, programas e suprimentos de informática - Cartuchos de tinta e toner para impressoras   \n",
       "4  1303 - Equipamentos, programas e suprimentos de informática - Cartuchos de tinta e toner para impressoras   \n",
       "\n",
       "  Código GC                                                Classe  \\\n",
       "0      1303  Equipamentos, programas e suprimentos de informática   \n",
       "1      1303  Equipamentos, programas e suprimentos de informática   \n",
       "2      1303  Equipamentos, programas e suprimentos de informática   \n",
       "3      1303  Equipamentos, programas e suprimentos de informática   \n",
       "4      1303  Equipamentos, programas e suprimentos de informática   \n",
       "\n",
       "                                     Descrição Grupo1 Grupo2  \\\n",
       "0  Cartuchos de tinta e toner para impressoras     13     03   \n",
       "1  Cartuchos de tinta e toner para impressoras     13     03   \n",
       "2  Cartuchos de tinta e toner para impressoras     13     03   \n",
       "3  Cartuchos de tinta e toner para impressoras     13     03   \n",
       "4  Cartuchos de tinta e toner para impressoras     13     03   \n",
       "\n",
       "                                                  Grupo_desc  \\\n",
       "0  13 - Equipamentos, programas e suprimentos de informática   \n",
       "1  13 - Equipamentos, programas e suprimentos de informática   \n",
       "2  13 - Equipamentos, programas e suprimentos de informática   \n",
       "3  13 - Equipamentos, programas e suprimentos de informática   \n",
       "4  13 - Equipamentos, programas e suprimentos de informática   \n",
       "\n",
       "                                        Classe_desc  \n",
       "0  03 - Cartuchos de tinta e toner para impressoras  \n",
       "1  03 - Cartuchos de tinta e toner para impressoras  \n",
       "2  03 - Cartuchos de tinta e toner para impressoras  \n",
       "3  03 - Cartuchos de tinta e toner para impressoras  \n",
       "4  03 - Cartuchos de tinta e toner para impressoras  "
      ]
     },
     "execution_count": 20,
     "metadata": {},
     "output_type": "execute_result"
    }
   ],
   "source": [
    "# Dividindo a coluna ***Grupo*** em duas para separar os códigos de grupo e de classe.\n",
    "df1['Grupo1'] = df1['Grupo'].str[:2]\n",
    "df1['Grupo2'] = df1['Grupo'].str[2:]\n",
    "\n",
    "# Renomeando a coluna de grupo/classe original\n",
    "df1.rename(columns={'Grupo':'Código GC'},inplace=True)\n",
    "\n",
    "# Criando as colunas de descrição de grupo e de classe\n",
    "df1['Grupo_desc'] = df1['Grupo1']+' - '+df1['Classe']\n",
    "df1['Classe_desc'] = df1['Grupo2']+' - '+df1['Descrição']\n",
    "df1.head()"
   ]
  },
  {
   "cell_type": "code",
   "execution_count": 21,
   "id": "371ea0ab",
   "metadata": {},
   "outputs": [
    {
     "data": {
      "text/html": [
       "<div>\n",
       "<style scoped>\n",
       "    .dataframe tbody tr th:only-of-type {\n",
       "        vertical-align: middle;\n",
       "    }\n",
       "\n",
       "    .dataframe tbody tr th {\n",
       "        vertical-align: top;\n",
       "    }\n",
       "\n",
       "    .dataframe thead th {\n",
       "        text-align: right;\n",
       "    }\n",
       "</style>\n",
       "<table border=\"1\" class=\"dataframe\">\n",
       "  <thead>\n",
       "    <tr style=\"text-align: right;\">\n",
       "      <th></th>\n",
       "      <th>cnpj</th>\n",
       "      <th>razao_social</th>\n",
       "      <th>porte</th>\n",
       "      <th>cidade</th>\n",
       "      <th>uf</th>\n",
       "      <th>pais</th>\n",
       "      <th>situacao</th>\n",
       "      <th>produtos_habilitados</th>\n",
       "      <th>Código GC</th>\n",
       "      <th>Grupo_desc</th>\n",
       "      <th>Classe_desc</th>\n",
       "    </tr>\n",
       "  </thead>\n",
       "  <tbody>\n",
       "    <tr>\n",
       "      <th>0</th>\n",
       "      <td>06.942.591/0001-00</td>\n",
       "      <td>MCG AGUIAR CARTUCHOS ME</td>\n",
       "      <td>ME/EPP</td>\n",
       "      <td>SAO JOSE DO RIO PRETO</td>\n",
       "      <td>São Paulo</td>\n",
       "      <td>Brasil</td>\n",
       "      <td>Empresa ativa</td>\n",
       "      <td>1303 - Equipamentos, programas e suprimentos de informática - Cartuchos de tinta e toner para impressoras</td>\n",
       "      <td>1303</td>\n",
       "      <td>13 - Equipamentos, programas e suprimentos de informática</td>\n",
       "      <td>03 - Cartuchos de tinta e toner para impressoras</td>\n",
       "    </tr>\n",
       "    <tr>\n",
       "      <th>1</th>\n",
       "      <td>05.325.332/0001-60</td>\n",
       "      <td>Global Multimídia Comércio de Eletroeletrônicos Ltda</td>\n",
       "      <td>ME/EPP</td>\n",
       "      <td>SAO PAULO</td>\n",
       "      <td>São Paulo</td>\n",
       "      <td>Brasil</td>\n",
       "      <td>Empresa ativa</td>\n",
       "      <td>1303 - Equipamentos, programas e suprimentos de informática - Cartuchos de tinta e toner para impressoras</td>\n",
       "      <td>1303</td>\n",
       "      <td>13 - Equipamentos, programas e suprimentos de informática</td>\n",
       "      <td>03 - Cartuchos de tinta e toner para impressoras</td>\n",
       "    </tr>\n",
       "    <tr>\n",
       "      <th>2</th>\n",
       "      <td>09.349.162/0001-04</td>\n",
       "      <td>TEXAS INFORMATICA E PRODUTOS LTDA. EPP</td>\n",
       "      <td>NÃO INFORMADO</td>\n",
       "      <td>VITORIA</td>\n",
       "      <td>Espírito Santo</td>\n",
       "      <td>Brasil</td>\n",
       "      <td>Empresa ativa</td>\n",
       "      <td>1303 - Equipamentos, programas e suprimentos de informática - Cartuchos de tinta e toner para impressoras</td>\n",
       "      <td>1303</td>\n",
       "      <td>13 - Equipamentos, programas e suprimentos de informática</td>\n",
       "      <td>03 - Cartuchos de tinta e toner para impressoras</td>\n",
       "    </tr>\n",
       "    <tr>\n",
       "      <th>3</th>\n",
       "      <td>13.000.035/0001-72</td>\n",
       "      <td>TARCIANE LOHN BOECHAT EPP</td>\n",
       "      <td>ME/EPP</td>\n",
       "      <td>SANTO AMARO DA IMPERATRIZ</td>\n",
       "      <td>Santa Catarina</td>\n",
       "      <td>Brasil</td>\n",
       "      <td>Empresa ativa</td>\n",
       "      <td>1303 - Equipamentos, programas e suprimentos de informática - Cartuchos de tinta e toner para impressoras</td>\n",
       "      <td>1303</td>\n",
       "      <td>13 - Equipamentos, programas e suprimentos de informática</td>\n",
       "      <td>03 - Cartuchos de tinta e toner para impressoras</td>\n",
       "    </tr>\n",
       "    <tr>\n",
       "      <th>4</th>\n",
       "      <td>73.977.480/0001-19</td>\n",
       "      <td>COMERCIAL STORINNY LTDA EPP</td>\n",
       "      <td>ME/EPP</td>\n",
       "      <td>PORTO BELO</td>\n",
       "      <td>Santa Catarina</td>\n",
       "      <td>Brasil</td>\n",
       "      <td>Empresa ativa</td>\n",
       "      <td>1303 - Equipamentos, programas e suprimentos de informática - Cartuchos de tinta e toner para impressoras</td>\n",
       "      <td>1303</td>\n",
       "      <td>13 - Equipamentos, programas e suprimentos de informática</td>\n",
       "      <td>03 - Cartuchos de tinta e toner para impressoras</td>\n",
       "    </tr>\n",
       "  </tbody>\n",
       "</table>\n",
       "</div>"
      ],
      "text/plain": [
       "                 cnpj                                          razao_social  \\\n",
       "0  06.942.591/0001-00                               MCG AGUIAR CARTUCHOS ME   \n",
       "1  05.325.332/0001-60  Global Multimídia Comércio de Eletroeletrônicos Ltda   \n",
       "2  09.349.162/0001-04                TEXAS INFORMATICA E PRODUTOS LTDA. EPP   \n",
       "3  13.000.035/0001-72                             TARCIANE LOHN BOECHAT EPP   \n",
       "4  73.977.480/0001-19                           COMERCIAL STORINNY LTDA EPP   \n",
       "\n",
       "           porte                     cidade              uf    pais  \\\n",
       "0         ME/EPP      SAO JOSE DO RIO PRETO       São Paulo  Brasil   \n",
       "1         ME/EPP                  SAO PAULO       São Paulo  Brasil   \n",
       "2  NÃO INFORMADO                    VITORIA  Espírito Santo  Brasil   \n",
       "3         ME/EPP  SANTO AMARO DA IMPERATRIZ  Santa Catarina  Brasil   \n",
       "4         ME/EPP                 PORTO BELO  Santa Catarina  Brasil   \n",
       "\n",
       "        situacao  \\\n",
       "0  Empresa ativa   \n",
       "1  Empresa ativa   \n",
       "2  Empresa ativa   \n",
       "3  Empresa ativa   \n",
       "4  Empresa ativa   \n",
       "\n",
       "                                                                                        produtos_habilitados  \\\n",
       "0  1303 - Equipamentos, programas e suprimentos de informática - Cartuchos de tinta e toner para impressoras   \n",
       "1  1303 - Equipamentos, programas e suprimentos de informática - Cartuchos de tinta e toner para impressoras   \n",
       "2  1303 - Equipamentos, programas e suprimentos de informática - Cartuchos de tinta e toner para impressoras   \n",
       "3  1303 - Equipamentos, programas e suprimentos de informática - Cartuchos de tinta e toner para impressoras   \n",
       "4  1303 - Equipamentos, programas e suprimentos de informática - Cartuchos de tinta e toner para impressoras   \n",
       "\n",
       "  Código GC                                                 Grupo_desc  \\\n",
       "0      1303  13 - Equipamentos, programas e suprimentos de informática   \n",
       "1      1303  13 - Equipamentos, programas e suprimentos de informática   \n",
       "2      1303  13 - Equipamentos, programas e suprimentos de informática   \n",
       "3      1303  13 - Equipamentos, programas e suprimentos de informática   \n",
       "4      1303  13 - Equipamentos, programas e suprimentos de informática   \n",
       "\n",
       "                                        Classe_desc  \n",
       "0  03 - Cartuchos de tinta e toner para impressoras  \n",
       "1  03 - Cartuchos de tinta e toner para impressoras  \n",
       "2  03 - Cartuchos de tinta e toner para impressoras  \n",
       "3  03 - Cartuchos de tinta e toner para impressoras  \n",
       "4  03 - Cartuchos de tinta e toner para impressoras  "
      ]
     },
     "execution_count": 21,
     "metadata": {},
     "output_type": "execute_result"
    }
   ],
   "source": [
    "# Excluindo as colunas que não serão necessárias\n",
    "df1.drop(columns=['Classe','Descrição','Grupo1','Grupo2'],inplace=True)\n",
    "df1.head()"
   ]
  },
  {
   "cell_type": "code",
   "execution_count": 22,
   "id": "13f1a2ce",
   "metadata": {},
   "outputs": [],
   "source": [
    "# Ajustando os nomes das novas colunas\n",
    "df1.rename(columns={'Grupo_desc':'Grupo','Classe_desc':'Classe'},inplace=True)"
   ]
  },
  {
   "cell_type": "code",
   "execution_count": 23,
   "id": "d78cdcb3",
   "metadata": {},
   "outputs": [
    {
     "data": {
      "text/plain": [
       "cnpj                        0\n",
       "razao_social               41\n",
       "porte                      41\n",
       "cidade                     41\n",
       "uf                         41\n",
       "pais                       41\n",
       "situacao                   41\n",
       "produtos_habilitados       41\n",
       "Código GC                  41\n",
       "Grupo                      41\n",
       "Classe                  12522\n",
       "dtype: int64"
      ]
     },
     "execution_count": 23,
     "metadata": {},
     "output_type": "execute_result"
    }
   ],
   "source": [
    "df1.isnull().sum()"
   ]
  },
  {
   "cell_type": "markdown",
   "id": "ab0c4b0b",
   "metadata": {},
   "source": [
    "Ao gerar o info do novo dataset percebemos que ao transformar o dataset original acabamos por gerar uma nova coluna que contém valores nulos. Vamos agora analisar a situação e decidir o que fazer com os dados inconsistentes."
   ]
  },
  {
   "cell_type": "code",
   "execution_count": 24,
   "id": "56d99cd9",
   "metadata": {},
   "outputs": [
    {
     "data": {
      "text/html": [
       "<div>\n",
       "<style scoped>\n",
       "    .dataframe tbody tr th:only-of-type {\n",
       "        vertical-align: middle;\n",
       "    }\n",
       "\n",
       "    .dataframe tbody tr th {\n",
       "        vertical-align: top;\n",
       "    }\n",
       "\n",
       "    .dataframe thead th {\n",
       "        text-align: right;\n",
       "    }\n",
       "</style>\n",
       "<table border=\"1\" class=\"dataframe\">\n",
       "  <thead>\n",
       "    <tr style=\"text-align: right;\">\n",
       "      <th></th>\n",
       "      <th>razao_social</th>\n",
       "      <th>porte</th>\n",
       "      <th>cidade</th>\n",
       "      <th>uf</th>\n",
       "      <th>pais</th>\n",
       "      <th>situacao</th>\n",
       "      <th>produtos_habilitados</th>\n",
       "      <th>cnpj</th>\n",
       "      <th>Código GC</th>\n",
       "      <th>Grupo</th>\n",
       "      <th>Classe</th>\n",
       "    </tr>\n",
       "  </thead>\n",
       "  <tbody>\n",
       "    <tr>\n",
       "      <th>df</th>\n",
       "      <td>358232</td>\n",
       "      <td>358232</td>\n",
       "      <td>358101</td>\n",
       "      <td>358101</td>\n",
       "      <td>358101</td>\n",
       "      <td>358232</td>\n",
       "      <td>357273</td>\n",
       "      <td>NaN</td>\n",
       "      <td>NaN</td>\n",
       "      <td>NaN</td>\n",
       "      <td>NaN</td>\n",
       "    </tr>\n",
       "    <tr>\n",
       "      <th>df</th>\n",
       "      <td>20121</td>\n",
       "      <td>3</td>\n",
       "      <td>1181</td>\n",
       "      <td>29</td>\n",
       "      <td>3</td>\n",
       "      <td>5</td>\n",
       "      <td>859</td>\n",
       "      <td>NaN</td>\n",
       "      <td>NaN</td>\n",
       "      <td>NaN</td>\n",
       "      <td>NaN</td>\n",
       "    </tr>\n",
       "    <tr>\n",
       "      <th>df</th>\n",
       "      <td>HAKA COMERCIAL DO BRASIL LTDA</td>\n",
       "      <td>ME/EPP</td>\n",
       "      <td>FLORIANOPOLIS</td>\n",
       "      <td>Santa Catarina</td>\n",
       "      <td>Brasil</td>\n",
       "      <td>Empresa ativa</td>\n",
       "      <td>1301 - Equipamentos, programas e suprimentos de informática - Equipamentos de informática</td>\n",
       "      <td>NaN</td>\n",
       "      <td>NaN</td>\n",
       "      <td>NaN</td>\n",
       "      <td>NaN</td>\n",
       "    </tr>\n",
       "    <tr>\n",
       "      <th>df</th>\n",
       "      <td>851</td>\n",
       "      <td>236367</td>\n",
       "      <td>31761</td>\n",
       "      <td>173193</td>\n",
       "      <td>358082</td>\n",
       "      <td>256961</td>\n",
       "      <td>2697</td>\n",
       "      <td>NaN</td>\n",
       "      <td>NaN</td>\n",
       "      <td>NaN</td>\n",
       "      <td>NaN</td>\n",
       "    </tr>\n",
       "    <tr>\n",
       "      <th>df1</th>\n",
       "      <td>357143</td>\n",
       "      <td>357143</td>\n",
       "      <td>357143</td>\n",
       "      <td>357143</td>\n",
       "      <td>357143</td>\n",
       "      <td>357143</td>\n",
       "      <td>357143</td>\n",
       "      <td>357184</td>\n",
       "      <td>357143</td>\n",
       "      <td>357143</td>\n",
       "      <td>344662</td>\n",
       "    </tr>\n",
       "    <tr>\n",
       "      <th>df1</th>\n",
       "      <td>19194</td>\n",
       "      <td>3</td>\n",
       "      <td>1162</td>\n",
       "      <td>29</td>\n",
       "      <td>3</td>\n",
       "      <td>5</td>\n",
       "      <td>859</td>\n",
       "      <td>25140</td>\n",
       "      <td>859</td>\n",
       "      <td>143</td>\n",
       "      <td>784</td>\n",
       "    </tr>\n",
       "    <tr>\n",
       "      <th>df1</th>\n",
       "      <td>BAGATINI &amp; GUANDALINI EQUIPAMENTOS TOPOGRÁFICOS LTDA</td>\n",
       "      <td>ME/EPP</td>\n",
       "      <td>FLORIANOPOLIS</td>\n",
       "      <td>Santa Catarina</td>\n",
       "      <td>Brasil</td>\n",
       "      <td>Empresa ativa</td>\n",
       "      <td>1301 - Equipamentos, programas e suprimentos de informática - Equipamentos de informática</td>\n",
       "      <td>00.004.774/0999-70</td>\n",
       "      <td>1301</td>\n",
       "      <td>66 - Materiais de uso em enfermaria e cirurgia</td>\n",
       "      <td>01 - Equipamentos de informática</td>\n",
       "    </tr>\n",
       "    <tr>\n",
       "      <th>df1</th>\n",
       "      <td>851</td>\n",
       "      <td>235879</td>\n",
       "      <td>31605</td>\n",
       "      <td>172572</td>\n",
       "      <td>357125</td>\n",
       "      <td>256814</td>\n",
       "      <td>2697</td>\n",
       "      <td>847</td>\n",
       "      <td>2697</td>\n",
       "      <td>28279</td>\n",
       "      <td>2697</td>\n",
       "    </tr>\n",
       "  </tbody>\n",
       "</table>\n",
       "</div>"
      ],
      "text/plain": [
       "                                             razao_social   porte  \\\n",
       "df                                                 358232  358232   \n",
       "df                                                  20121       3   \n",
       "df                          HAKA COMERCIAL DO BRASIL LTDA  ME/EPP   \n",
       "df                                                    851  236367   \n",
       "df1                                                357143  357143   \n",
       "df1                                                 19194       3   \n",
       "df1  BAGATINI & GUANDALINI EQUIPAMENTOS TOPOGRÁFICOS LTDA  ME/EPP   \n",
       "df1                                                   851  235879   \n",
       "\n",
       "            cidade              uf    pais       situacao  \\\n",
       "df          358101          358101  358101         358232   \n",
       "df            1181              29       3              5   \n",
       "df   FLORIANOPOLIS  Santa Catarina  Brasil  Empresa ativa   \n",
       "df           31761          173193  358082         256961   \n",
       "df1         357143          357143  357143         357143   \n",
       "df1           1162              29       3              5   \n",
       "df1  FLORIANOPOLIS  Santa Catarina  Brasil  Empresa ativa   \n",
       "df1          31605          172572  357125         256814   \n",
       "\n",
       "                                                                          produtos_habilitados  \\\n",
       "df                                                                                      357273   \n",
       "df                                                                                         859   \n",
       "df   1301 - Equipamentos, programas e suprimentos de informática - Equipamentos de informática   \n",
       "df                                                                                        2697   \n",
       "df1                                                                                     357143   \n",
       "df1                                                                                        859   \n",
       "df1  1301 - Equipamentos, programas e suprimentos de informática - Equipamentos de informática   \n",
       "df1                                                                                       2697   \n",
       "\n",
       "                   cnpj Código GC  \\\n",
       "df                  NaN       NaN   \n",
       "df                  NaN       NaN   \n",
       "df                  NaN       NaN   \n",
       "df                  NaN       NaN   \n",
       "df1              357184    357143   \n",
       "df1               25140       859   \n",
       "df1  00.004.774/0999-70      1301   \n",
       "df1                 847      2697   \n",
       "\n",
       "                                              Grupo  \\\n",
       "df                                              NaN   \n",
       "df                                              NaN   \n",
       "df                                              NaN   \n",
       "df                                              NaN   \n",
       "df1                                          357143   \n",
       "df1                                             143   \n",
       "df1  66 - Materiais de uso em enfermaria e cirurgia   \n",
       "df1                                           28279   \n",
       "\n",
       "                               Classe  \n",
       "df                                NaN  \n",
       "df                                NaN  \n",
       "df                                NaN  \n",
       "df                                NaN  \n",
       "df1                            344662  \n",
       "df1                               784  \n",
       "df1  01 - Equipamentos de informática  \n",
       "df1                              2697  "
      ]
     },
     "execution_count": 24,
     "metadata": {},
     "output_type": "execute_result"
    }
   ],
   "source": [
    "# Comparando a descrição dos dataframes\n",
    "describe_df = df.describe(include=object)\n",
    "describe_df1 = df1.describe(include=object)\n",
    "\n",
    "# Adicionando os nomes dos dataframes como índices\n",
    "describe_df.index=['df'] * len(describe_df)\n",
    "describe_df1.index=['df1'] * len(describe_df)\n",
    "\n",
    "# Concatenando os resultados em um único dataframe\n",
    "df_comparacao = pd.concat([describe_df,describe_df1])\n",
    "\n",
    "# Listando a tabela resultante\n",
    "df_comparacao"
   ]
  },
  {
   "cell_type": "markdown",
   "id": "49a1a9e4",
   "metadata": {},
   "source": [
    "Comparando a descrição do ***df1*** com a descrição do ***df*** percebemos que no processo de limpeza e transformação de dados foram perdidos registros de fornecedores (o df original tinha 20.121 cnpjs únicos e o novo df1 possui 19.194). Conforme dito anteriormente, a decisão de manter ou não determinadas informações do dataset é do analista, porém, é importante ter em conta as justificativas para as escolhas feitas no decorrer do processo. No caso, optaremos por manter o dataframe com os registros de *Classe* nulos, dado que já havíamos perdido informações de 927 fornecedores na primeira etapa do processo de limpeza.\n",
    "\n",
    "Porém, para que o dataframe se torne mais \"amigável\", vamos substituir os campos nos quais existem valores nulos por um valor categórico para fins de uso na etapa de análise."
   ]
  },
  {
   "cell_type": "code",
   "execution_count": 25,
   "id": "f659c6c0",
   "metadata": {},
   "outputs": [
    {
     "data": {
      "text/plain": [
       "cnpj                    0\n",
       "razao_social            0\n",
       "porte                   0\n",
       "cidade                  0\n",
       "uf                      0\n",
       "pais                    0\n",
       "situacao                0\n",
       "produtos_habilitados    0\n",
       "Código GC               0\n",
       "Grupo                   0\n",
       "Classe                  0\n",
       "dtype: int64"
      ]
     },
     "execution_count": 25,
     "metadata": {},
     "output_type": "execute_result"
    }
   ],
   "source": [
    "# Lista das colunas que precisam ter valores nulos preenchidos\n",
    "colunas_para_preencher = ['razao_social', 'porte', 'cidade', 'uf', 'pais', 'situacao', 'produtos_habilitados', 'Código GC', 'Grupo', 'Classe']\n",
    "\n",
    "# Preenchendo valores nulos nas colunas selecionadas\n",
    "df1[colunas_para_preencher] = df1[colunas_para_preencher].fillna('Não definido')\n",
    "\n",
    "# Verificando o resultado\n",
    "df1.isnull().sum()"
   ]
  },
  {
   "cell_type": "markdown",
   "id": "9c54a68b",
   "metadata": {},
   "source": [
    "Com a finalização do processo de tranformação de dados nosso dataframe está pronto para ser carregado em banco de dados ou exportado em formatos de arquivos para análise posterior. É o que iremos fazer agora, na fazer de geração de dados de saída."
   ]
  },
  {
   "cell_type": "markdown",
   "id": "419b387f",
   "metadata": {},
   "source": [
    "---\n",
    "# Geração de dados de saída (Data output)"
   ]
  },
  {
   "cell_type": "markdown",
   "id": "b7985d7d",
   "metadata": {},
   "source": [
    "Uma vez finalizada a fase de limpeza e transformação, agora iremos dar saída ao dataset gerado para fins de análise. Faremos isso em forma de arquivos e em registros em banco de dados."
   ]
  },
  {
   "cell_type": "markdown",
   "id": "88de4387",
   "metadata": {},
   "source": [
    "## Gravação em arquivos"
   ]
  },
  {
   "cell_type": "code",
   "execution_count": 26,
   "id": "4784b17d",
   "metadata": {},
   "outputs": [],
   "source": [
    "# Gravando em formato .csv\n",
    "df1.to_csv('datasets/df1_fornecedores.csv',index=False)"
   ]
  },
  {
   "cell_type": "code",
   "execution_count": 27,
   "id": "db9f51c2",
   "metadata": {},
   "outputs": [],
   "source": [
    "# Gravando em formato .json\n",
    "df1.to_json('datasets/df1_fornecedores.json')"
   ]
  },
  {
   "cell_type": "code",
   "execution_count": null,
   "id": "4f9d9d9f",
   "metadata": {},
   "outputs": [],
   "source": [
    "# Gravando em formato .xls\n",
    "#df1.to_excel('datasets/df1_fornecedores.xlsx',index=False)"
   ]
  },
  {
   "cell_type": "markdown",
   "id": "f1f1005b",
   "metadata": {},
   "source": [
    "## Gravação em DB relacional"
   ]
  },
  {
   "cell_type": "markdown",
   "id": "10cd2f4e",
   "metadata": {},
   "source": [
    "> Gravando em banco de dados SQLite"
   ]
  },
  {
   "cell_type": "code",
   "execution_count": 28,
   "id": "d4c506b3",
   "metadata": {},
   "outputs": [
    {
     "data": {
      "text/plain": [
       "357184"
      ]
     },
     "execution_count": 28,
     "metadata": {},
     "output_type": "execute_result"
    }
   ],
   "source": [
    "# Importando a biblioteca para interação com o SQLite\n",
    "import sqlite3\n",
    "\n",
    "# Criando uma conexão ao banco de dados SQLite\n",
    "cnn=sqlite3.connect('database/bdContratosSC.db')\n",
    "\n",
    "# Copiando nosso dataframe para o banco de dados\n",
    "df1.to_sql('Fornecedores',cnn)"
   ]
  },
  {
   "cell_type": "markdown",
   "id": "13530a33",
   "metadata": {},
   "source": [
    "> Abaixo o código para gravação em banco de dados ***MySQL***, não executaremos esse script porque necessitamos ter  o SGBD instalado."
   ]
  },
  {
   "cell_type": "code",
   "execution_count": null,
   "id": "9bddc171",
   "metadata": {},
   "outputs": [],
   "source": [
    "# Importando a biblioteca para interação com o MySQL\n",
    "#import mysql.connector\n",
    "\n",
    "# Configurando os parâmetros da conexão\n",
    "#config={\n",
    "#    'user':'seu usuário';\n",
    "#    'password':'sua_senha';\n",
    "#    'host':'localhost';    # ou endereço do servidor MySQL\n",
    "#    'database':'seu_banco_de_dados'\n",
    "#}\n",
    "\n",
    "# Criando uma conexão ao banco de dados\n",
    "#try:\n",
    "#    conn=mysql.connector.connect(**config)\n",
    "#    if conn.is_connected():\n",
    "#        print('Conexão ao banco de dados bem sucedida')\n",
    "#except mysql.connector.Error as err:\n",
    "#    print(f'Erro ao conectar ao banco de dados: {err}')\n",
    "\n",
    "# Copiando nosso dataframe para o banco de dados\n",
    "\n",
    "# Fechando a conexão (ao terminar de utilizar)\n",
    "#conn.close()"
   ]
  },
  {
   "cell_type": "markdown",
   "id": "5511e5c7",
   "metadata": {},
   "source": [
    "## Gravação em datalake (BD não-relacional)"
   ]
  },
  {
   "cell_type": "markdown",
   "id": "92bd7faf",
   "metadata": {},
   "source": [
    "> Abaixo o código para gravação em banco de dados ***MongoDB***, não executaremos esse script porque necessitamos ter  SGBD instalado."
   ]
  },
  {
   "cell_type": "code",
   "execution_count": null,
   "id": "ed8c0763",
   "metadata": {},
   "outputs": [],
   "source": [
    "# Importando a biblioteca para interação com o MongoDB\n",
    "#from pymongo import MongoClient\n",
    "\n",
    "# Configurando os parâmetros de conexão\n",
    "#client=MongoClient('mongodb://localhost:27017/')\n",
    "\n",
    "# Acessando um banco de dados específico\n",
    "#db=client['appdb']\n",
    "\n",
    "# Criando uma coleção no banco de dados\n",
    "#collection = db['Fornecedores']\n",
    "\n",
    "# Carregando o dataframe\n",
    "#data = df1.to_dict(orient='records')\n",
    "\n",
    "# Inserindo os registros no MongoDB\n",
    "#collection.insert_many(data)\n",
    "\n",
    "# Listando as coleções disponíveis\n",
    "#print(db.list_collection_names())"
   ]
  },
  {
   "cell_type": "code",
   "execution_count": null,
   "id": "fd652cbc",
   "metadata": {},
   "outputs": [],
   "source": [
    "#fornecedores=collection.find()\n",
    "#for fornecedor in fornecedores:\n",
    "#    print(fornecedor)"
   ]
  },
  {
   "cell_type": "code",
   "execution_count": null,
   "id": "34d7eddb",
   "metadata": {},
   "outputs": [],
   "source": [
    "# Fechando a conexão ao MongoDB\n",
    "#client.close()"
   ]
  },
  {
   "cell_type": "markdown",
   "id": "649eae84",
   "metadata": {},
   "source": [
    "Com a geração dos dados de saída, nosso trabalho de ***ETL*** de dados terminou. Fizemos a limpeza, transformação e carga de dados para arquivos de saíde e bancos de dados relacionais e não-relacionais. Agora passaremos à etapa de visualização de dados (dataviz) que faremos utilizando o Microsoft Power BI como ferramenta."
   ]
  },
  {
   "cell_type": "markdown",
   "id": "03dedbc5",
   "metadata": {},
   "source": [
    "---"
   ]
  },
  {
   "cell_type": "markdown",
   "id": "9071f326",
   "metadata": {},
   "source": [
    "<div style=\"font-size: 32px; text-align: center;font-weight: bold\">FIM</div>"
   ]
  }
 ],
 "metadata": {
  "kernelspec": {
   "display_name": "Python 3 (ipykernel)",
   "language": "python",
   "name": "python3"
  },
  "language_info": {
   "codemirror_mode": {
    "name": "ipython",
    "version": 3
   },
   "file_extension": ".py",
   "mimetype": "text/x-python",
   "name": "python",
   "nbconvert_exporter": "python",
   "pygments_lexer": "ipython3",
   "version": "3.8.5"
  }
 },
 "nbformat": 4,
 "nbformat_minor": 5
}
