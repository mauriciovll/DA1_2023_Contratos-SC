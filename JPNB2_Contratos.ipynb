{
 "cells": [
  {
   "cell_type": "markdown",
   "id": "22df8260",
   "metadata": {},
   "source": [
    "![imagem](images/UFSC_Banner.png)"
   ]
  },
  {
   "cell_type": "markdown",
   "id": "06f266c1",
   "metadata": {},
   "source": [
    "<div style=\"font-size: 26px; text-align: center;font-weight: bold\">INTRODUÇÃO À DATA ANALYTICS PARA PESQUISA EM CONTABILIDADE</div><br>\n",
    "\n",
    "<div style=\"font-size: 22px; text-align: center;font-weight: bold\">Projeto: Análise de dados de contratos do Poder Executivo de Santa Catarina</div><br>\n",
    "\n",
    "<div style=\"font-size: 20px; text-align: center\">JPNB 02 - ETL DOS DADOS DE CONTRATOS</div>"
   ]
  },
  {
   "cell_type": "markdown",
   "id": "168ec6df",
   "metadata": {},
   "source": [
    "---\n",
    "<span style='font-size: 14px'>Elaborador por: [Maurício Vasconcellos Leão Lyrio, Dr.](https://br.linkedin.com/in/maur%C3%ADcio-vasconcellos-le%C3%A3o-lyrio-59773220) | Página Oficial: www.vll.adm.br</span>"
   ]
  },
  {
   "cell_type": "code",
   "execution_count": null,
   "id": "deaa4660",
   "metadata": {},
   "outputs": [],
   "source": [
    "# Versão da linguagem Python e arquitetura do Jupyter Notebook\n",
    "import platform\n",
    "print('Versão da linguagem Python utilizada neste notebook:', platform.python_version())\n",
    "print('Arquitetura do Jupyter utilizada neste notebook:', platform.architecture()[0])"
   ]
  },
  {
   "cell_type": "markdown",
   "id": "825ed750",
   "metadata": {},
   "source": [
    "---\n",
    "# Instalação das bibliotecas"
   ]
  },
  {
   "cell_type": "code",
   "execution_count": null,
   "id": "5326417e",
   "metadata": {},
   "outputs": [],
   "source": [
    "# Manipulação de dados\n",
    "import pandas as pd\n",
    "\n",
    "# Ignorar warnings\n",
    "import warnings\n",
    "warnings.filterwarnings('ignore')\n",
    "\n",
    "# Versões dos pacotes utilizados neste Jupyter notebook\n",
    "#!pip install -q -U watermark\n",
    "%reload_ext watermark\n",
    "%watermark -a \"Mauricio Vasconcellos Leão Lyrio | vll.adm.br\" --iversions"
   ]
  },
  {
   "cell_type": "markdown",
   "id": "532c988c",
   "metadata": {},
   "source": [
    "---\n",
    "# Carregamento dos datasets"
   ]
  },
  {
   "cell_type": "markdown",
   "id": "70ae7d2a",
   "metadata": {},
   "source": [
    "Os dados de contratos estabelecidos pelo Estado de Santa Catarina foram obtidos do [Portal de Dados Abertos do Estado de Santa Catarina](dados.sc.gov.br). Vamos utilizar dois datasets referentes aos [contratos](https://dados.sc.gov.br/dataset/contratos) firmados pelo Estado:\n",
    "\n",
    "- Arquivo em formato .csv abrangendo o período entre 2011 e 2021;\n",
    "- Arquivo em formato .json abrangendo o ano de 2022.\n",
    "\n",
    "Em seguida iremos consolidar esses datasets em um único para que possamos fazer nosso trabalho de análise."
   ]
  },
  {
   "cell_type": "markdown",
   "id": "1d421870",
   "metadata": {},
   "source": [
    "## Carregando os contratos de 2011 a 2021"
   ]
  },
  {
   "cell_type": "code",
   "execution_count": null,
   "id": "59b6b90d",
   "metadata": {},
   "outputs": [],
   "source": [
    "# Carregando o dataset de contratos de 2011 a 2021 a partir do Portal de Dados Abertos (dados.sc.gov.br)\n",
    "df_2021 = pd.read_csv('https://dados.sc.gov.br/dataset/93dab950-e805-4388-8418-cfb3b73f1623/resource/ac64ba57-bac8-4969-9248-cb9c9b76415d/download/contratos-2011-2021.csv')"
   ]
  },
  {
   "cell_type": "code",
   "execution_count": null,
   "id": "1705407a",
   "metadata": {},
   "outputs": [],
   "source": [
    "# Verificando se o dataset foi carregado corretamente e seu tipo\n",
    "type(df_2021)"
   ]
  },
  {
   "cell_type": "code",
   "execution_count": null,
   "id": "b8f2df55",
   "metadata": {},
   "outputs": [],
   "source": [
    "# Verificando o formato do dataframe\n",
    "df_2021.shape"
   ]
  },
  {
   "cell_type": "code",
   "execution_count": null,
   "id": "e5fbe946",
   "metadata": {
    "scrolled": true
   },
   "outputs": [],
   "source": [
    "# Listando as colunas do dataframe\n",
    "df_2021.columns"
   ]
  },
  {
   "cell_type": "markdown",
   "id": "e892c06c",
   "metadata": {},
   "source": [
    "## Carregando os contratos de 2022"
   ]
  },
  {
   "cell_type": "code",
   "execution_count": null,
   "id": "411fd0c1",
   "metadata": {},
   "outputs": [],
   "source": [
    "# Carregando o dataset de contratos de 2022 a partir do Portal de Dados Abertos (dados.sc.gov.br)\n",
    "df_2022 = pd.read_json('https://dados.sc.gov.br/dataset/93dab950-e805-4388-8418-cfb3b73f1623/resource/d4a78b11-fd97-4114-8f8b-2bf45ffab0be/download/contratos-2022.json')"
   ]
  },
  {
   "cell_type": "code",
   "execution_count": null,
   "id": "7190d41a",
   "metadata": {},
   "outputs": [],
   "source": [
    "# Verificando se o dataset foi carregado corretamente e seu tipo\n",
    "type(df_2022)"
   ]
  },
  {
   "cell_type": "code",
   "execution_count": null,
   "id": "8b260473",
   "metadata": {},
   "outputs": [],
   "source": [
    "# Verificando o formato do dataframe\n",
    "df_2022.shape"
   ]
  },
  {
   "cell_type": "markdown",
   "id": "78bf31eb",
   "metadata": {},
   "source": [
    "***Opa!*** o dataset de contratos de 2022 possui duas colunas a mais que o de 2011 a 2021. Qual será a diferença? Vamos verificar ..."
   ]
  },
  {
   "cell_type": "code",
   "execution_count": null,
   "id": "ddd057e2",
   "metadata": {
    "scrolled": true
   },
   "outputs": [],
   "source": [
    "# Listando as colunas do dataframe\n",
    "df_2022.columns"
   ]
  },
  {
   "cell_type": "markdown",
   "id": "ce387d3a",
   "metadata": {},
   "source": [
    "Evindenciamos que o **df_2022** possui duas colunas a mais ('IDCONTRATADOMASCARADO', 'CDCREDOR'). Vamos ver o que que é o conteúdo dessas colunas."
   ]
  },
  {
   "cell_type": "code",
   "execution_count": null,
   "id": "3bb756f1",
   "metadata": {
    "scrolled": false
   },
   "outputs": [],
   "source": [
    "df_2022[['IDCONTRATADO','IDCONTRATADOMASCARADO','CONTRATADO','CDCREDOR']].head()"
   ]
  },
  {
   "cell_type": "markdown",
   "id": "a080d5f3",
   "metadata": {},
   "source": [
    "A coluna 'IDCONTRATADOMASCARADO' é somente o CNPJ do contratado com a máscara respectiva (que insere os caracteres especiais). A coluna 'CDCREDOR' precisamos confirmar no dicionário de dados o que significa. Lembre-se, o dicionário de dados é seu amigo!"
   ]
  },
  {
   "cell_type": "markdown",
   "id": "ff65bd8a",
   "metadata": {},
   "source": [
    "## Consolidando os dataframes\n",
    "\n",
    "No caso do nosso projeto, mesmo sabendo que existem duas colunas a mais no dataframe com os dados de contratos de 2022, iremos concatenar as tabelas para ter uma tabela única que utilizaremos nas próximas fases do trabalho."
   ]
  },
  {
   "cell_type": "code",
   "execution_count": null,
   "id": "a9f31e48",
   "metadata": {},
   "outputs": [],
   "source": [
    "# Concatenando os dois datasets verticalmente em um único dataframe consolidado\n",
    "df1 = pd.concat([df_2021,df_2022], ignore_index=True)"
   ]
  },
  {
   "cell_type": "markdown",
   "id": "da184819",
   "metadata": {},
   "source": [
    "---\n",
    "# Análise exploratória dos dados"
   ]
  },
  {
   "cell_type": "markdown",
   "id": "92a57e93",
   "metadata": {},
   "source": [
    "Agora que temos um dataframe no qual os dados dos contratos estão consolidados, daremos sequência ao processo de análise, neste ponto iremos verificar a qualidade e integridade dos dados disponíveis."
   ]
  },
  {
   "cell_type": "code",
   "execution_count": null,
   "id": "720d5dd4",
   "metadata": {},
   "outputs": [],
   "source": [
    "# Verificando se o dataframe foi carregado corretamente e seu tipo\n",
    "type(df1)"
   ]
  },
  {
   "cell_type": "code",
   "execution_count": null,
   "id": "b047e85a",
   "metadata": {},
   "outputs": [],
   "source": [
    "# Verificando o formato do dataframe\n",
    "df1.shape"
   ]
  },
  {
   "cell_type": "code",
   "execution_count": null,
   "id": "6c2fb9d6",
   "metadata": {
    "scrolled": true
   },
   "outputs": [],
   "source": [
    "df1.info()"
   ]
  },
  {
   "cell_type": "code",
   "execution_count": null,
   "id": "7f303d84",
   "metadata": {},
   "outputs": [],
   "source": [
    "# Configurar o formato desejado de número usando locale\n",
    "import locale\n",
    "locale.setlocale(locale.LC_ALL, 'pt_BR.UTF-8')\n",
    "\n",
    "# Configurar o formato para evitar notação científica\n",
    "pd.options.display.float_format = '{:n}'.format\n",
    "\n",
    "# Configurar opções para exibição completa do DataFrame\n",
    "pd.set_option('display.max_columns', None)\n",
    "pd.set_option('display.max_rows', None)\n",
    "df1.head()"
   ]
  },
  {
   "cell_type": "markdown",
   "id": "51d56af5",
   "metadata": {},
   "source": [
    "---\n",
    "# Pré-processamento"
   ]
  },
  {
   "cell_type": "markdown",
   "id": "065ea1f0",
   "metadata": {},
   "source": [
    "Na fase de análise exploratória identificamos que nosso dataframe possui diversos campos nulos e campos que apesar de estar com tipo numérico, parecem ser informações categóricas. Iremos agora analisar essas questões."
   ]
  },
  {
   "cell_type": "markdown",
   "id": "a8a88ef1",
   "metadata": {},
   "source": [
    "## Limpeza"
   ]
  },
  {
   "cell_type": "markdown",
   "id": "ceb16944",
   "metadata": {},
   "source": [
    "Conforme visto anteriormente, nosso dataframe possui uma série de campos com valores nulos. Vamos analisar melhor essa situação e definir o que fazer com esses valores. para isso criaremos uma nova **tabela com a distribuição percentual de valores nulos por coluna**."
   ]
  },
  {
   "cell_type": "code",
   "execution_count": null,
   "id": "28d87929",
   "metadata": {},
   "outputs": [],
   "source": [
    "# Criando uma lista vazia para armazenar as informações de nome e tipo de coluna.\n",
    "colunas_info = []\n",
    "\n",
    "# Iterando pelas colunas do dataframe\n",
    "for coluna in df1.columns:\n",
    "    coluna_nome = coluna\n",
    "    coluna_tipo = df1[coluna].dtype\n",
    "    coluna_nulos = df1[coluna].isnull().sum()\n",
    "    coluna_nulos_perc = (coluna_nulos/len(df1))*100\n",
    "    colunas_info.append((coluna_nome,coluna_tipo,coluna_nulos,coluna_nulos_perc))\n",
    "                        \n",
    "# Criando um novo dataframe e exibindo as informações das colunas\n",
    "df1_colunas_info = pd.DataFrame(colunas_info, columns=['Coluna','Tipo','Q Nulo', '% Nulo'])\n",
    "print(df1_colunas_info)"
   ]
  },
  {
   "cell_type": "markdown",
   "id": "690586b4",
   "metadata": {},
   "source": [
    "Com a nova tabela fica mais fácil evidenciar os valores ausentes do dataframe. Em projetos de datascience, em geral, utiliza-se como regra para tratamento de valores ausentes as seguintes opções:\n",
    "\n",
    "- Para valores ausentes < 2%, descartar os valores ausentes;\n",
    "- Para valores ausentes >= 50%, descartamos a variável;\n",
    "- Para valores ausentes < 50%, tratar os valores ausentes."
   ]
  },
  {
   "cell_type": "markdown",
   "id": "f10ca802",
   "metadata": {},
   "source": [
    "> ***Momento de decisão!*** O que iremos fazer com os valores nulos?"
   ]
  },
  {
   "cell_type": "markdown",
   "id": "e33874e0",
   "metadata": {},
   "source": [
    "Antes de começar, vamos fazer uma cópia do nosso dataframe original para não perder o histórico das informações."
   ]
  },
  {
   "cell_type": "code",
   "execution_count": null,
   "id": "0a43ab63",
   "metadata": {},
   "outputs": [],
   "source": [
    "df2 = df1.copy()"
   ]
  },
  {
   "cell_type": "markdown",
   "id": "1ab6fbce",
   "metadata": {},
   "source": [
    "> ***O que faremos com os valore nulos que representam - de 2% dos registros em uma determinada coluna?*** Vamos pensar que cada registro é um contrato firmado e, caso optemos por excluí-lo, estaremos excluindo um contrato de nossa base de dados."
   ]
  },
  {
   "cell_type": "code",
   "execution_count": null,
   "id": "5435c039",
   "metadata": {},
   "outputs": [],
   "source": [
    "# Caso optemos por excluir os registros < 2% nulos:\n",
    "#df2 = df2.dropna(subset=['DTINICIO'])    # 0,18% dos registros são nulos\n",
    "#df2 = df2.dropna(subset=['DTFIM'])    # 0,18% dos registros são nulos\n",
    "#df2 = df2.dropna(subset=['DTFIMATUAL'])    # 0,18% dos registros são nulos\n",
    "#df2 = df2.dropna(subset=['NUPROCESSO'])    # 2,80% dos registros são nulos\n",
    "\n",
    "#df2.isnull().sum()"
   ]
  },
  {
   "cell_type": "markdown",
   "id": "7a9b31a6",
   "metadata": {},
   "source": [
    "> ***O que faremos com as colunas nas quais os registros nulos representam mais de 50% dos registros?*** Lembrando sempre que ao excluir uma linha estamos excluindo um contrato e ao excluir uma coluna estamos excluindo uma informação (atributo) de todos os contratos da amostra."
   ]
  },
  {
   "cell_type": "markdown",
   "id": "0be9b607",
   "metadata": {},
   "source": [
    "Analisando os valores nulos de cada coluna vamos definindo se iremos ou não excluí-la. Por exemplo, podemos manter as colunas que estão com 88.28% de valores nulos dado que a primeira vista se constiem nos contratos de obras advindos do sistema SICOP, caso dropemos essas colunas perderemos a informação referente a isso."
   ]
  },
  {
   "cell_type": "code",
   "execution_count": null,
   "id": "2a4e0a9c",
   "metadata": {},
   "outputs": [],
   "source": [
    "# Excluindo as colunas que não iremos utilizar\n",
    "df2 = df2.drop(columns=['NUPROCESSOFORMATADO',\n",
    "                        'TAGS',\n",
    "                        'NMBEMPUBLICO',\n",
    "                        'NMREGIMEEXECUCAO',\n",
    "                        'DEMULTA',\n",
    "                        'NUAUTORIZACAOORGAO',\n",
    "                        'NMINTERVENIENTE',\n",
    "                        'NMREPUG',\n",
    "                        'DTAUTORIZACAO',\n",
    "                        'DTLIMITEPROPOSTA',\n",
    "                        'VLGARANTIA',\n",
    "                        'VLPERCMULTA',\n",
    "                        'DATAPROPOSTA',\n",
    "                        'DIASORIGINAIS',\n",
    "                        'DIASADITADOS',\n",
    "                        'DIASATUAIS',\n",
    "                        'IDCONTRATADOMASCARADO',\n",
    "                        'CDCREDOR'\n",
    "                       ])"
   ]
  },
  {
   "cell_type": "code",
   "execution_count": null,
   "id": "efd9f720",
   "metadata": {},
   "outputs": [],
   "source": [
    "df2.info()"
   ]
  },
  {
   "cell_type": "markdown",
   "id": "bc9bd8b6",
   "metadata": {},
   "source": [
    "## Transformação"
   ]
  },
  {
   "cell_type": "markdown",
   "id": "37eb4a49",
   "metadata": {},
   "source": [
    "Iniciaremos a etapa de transformação de dados fazendo o ***preenchimento dos campos com registros nulos*** em nosso dataframe."
   ]
  },
  {
   "cell_type": "code",
   "execution_count": null,
   "id": "c73800ea",
   "metadata": {
    "scrolled": true
   },
   "outputs": [],
   "source": [
    "# Preenchendo os valores nulos das colunas de data e número com valores padronizados\n",
    "df2['DTINICIO'].fillna('1900-01-01', inplace=True)\n",
    "df2['DTFIM'].fillna('1900-01-01', inplace=True)\n",
    "df2['DTFIMATUAL'].fillna('1900-01-01', inplace=True)\n",
    "df2['DTINCLUSAO'].fillna('1900-01-01', inplace=True)\n",
    "df2['VLPERCGARANTIA'].fillna(0, inplace=True)\n",
    "df2['VLADITADO'].fillna(0, inplace=True)\n",
    "\n",
    "df2.isnull().sum()"
   ]
  },
  {
   "cell_type": "code",
   "execution_count": null,
   "id": "96407d5c",
   "metadata": {
    "scrolled": true
   },
   "outputs": [],
   "source": [
    "# Criando uma lista com os demais campos com valores nulos\n",
    "colunas_com_nulos = df2.columns[df2.isnull().any()].tolist()\n",
    "\n",
    "# Alterando o tipo de dado das colunas com valores nulos para object\n",
    "df2[colunas_com_nulos] = df2[colunas_com_nulos].astype(object)\n",
    "\n",
    "# Preenchendo os valores nulos com o termo 'Não definido'\n",
    "df2.fillna('Não definido',inplace=True)"
   ]
  },
  {
   "cell_type": "code",
   "execution_count": null,
   "id": "40ac2d4a",
   "metadata": {
    "scrolled": false
   },
   "outputs": [],
   "source": [
    "df2.isnull().sum()"
   ]
  },
  {
   "cell_type": "code",
   "execution_count": null,
   "id": "99ab6f9e",
   "metadata": {},
   "outputs": [],
   "source": [
    "# Alterando o tipo colunas  CDUNIDADEGESTORA, CDGESTAO, e IDCONTRATADO para object.\n",
    "df2[['CDUNIDADEGESTORA', 'CDGESTAO', 'IDCONTRATADO']] = df2[['CDUNIDADEGESTORA', 'CDGESTAO', 'IDCONTRATADO']].astype(object)"
   ]
  },
  {
   "cell_type": "code",
   "execution_count": null,
   "id": "3d8888a8",
   "metadata": {},
   "outputs": [],
   "source": [
    "df2.info()"
   ]
  },
  {
   "cell_type": "code",
   "execution_count": null,
   "id": "ebf9d329",
   "metadata": {},
   "outputs": [],
   "source": [
    "# criando uma lista com as colunas de data\n",
    "colunas_data = ['DTINIBUSCA', 'DTINICIO', 'DTFIM', 'DTFIMATUAL', 'DTASSINATURA', 'DTINCLUSAO']\n",
    "\n",
    "# Convertendo as colunas de data para o formato ano-mes-dia\n",
    "df2[colunas_data] = df2[colunas_data].astype('datetime64[ns]')"
   ]
  },
  {
   "cell_type": "code",
   "execution_count": null,
   "id": "02cf38dc",
   "metadata": {},
   "outputs": [],
   "source": [
    "df2.info()"
   ]
  },
  {
   "cell_type": "markdown",
   "id": "7e90b406",
   "metadata": {},
   "source": [
    "Por fim, vamos configurar o campo IDCONTRATADO para que os registros fique no ***padrão de CNPJ***."
   ]
  },
  {
   "cell_type": "code",
   "execution_count": null,
   "id": "04aace0e",
   "metadata": {},
   "outputs": [],
   "source": [
    "# Formatando os valores do campo de CNPJ (IDCONTRATADO)\n",
    "for i, cnpj in enumerate(df2['IDCONTRATADO']):\n",
    "    # Convertendo para string antes de verificar o comprimento\n",
    "    cnpj_str = str(cnpj)\n",
    "    # se o registro tiver menos de 14 caracteres\n",
    "    if len(cnpj_str) < 14:\n",
    "        # Incluir '0' no início até que o registro tenha 14 caracteres\n",
    "        df2.at[i, 'IDCONTRATADO'] = '0' * (14 - len(cnpj_str)) + cnpj_str\n",
    "        \n",
    "# Criando uma máscara de CNPJ para o campo 'IDCONTRATADO'\n",
    "df2['IDCONTRATADO'] = df2['IDCONTRATADO'].astype(str).apply(lambda x: f'{x[:2]}.{x[2:5]}.{x[5:8]}/{x[8:12]}-{x[12:]}')"
   ]
  },
  {
   "cell_type": "markdown",
   "id": "9c54a68b",
   "metadata": {},
   "source": [
    "Com a finalização do processo de tranformação de dados nosso dataframe está pronto para ser carregado em banco de dados ou exportado em formatos de arquivos para análise posterior. É o que iremos fazer agora, na fazer de geração de dados de saída."
   ]
  },
  {
   "cell_type": "code",
   "execution_count": null,
   "id": "4c68c708",
   "metadata": {
    "scrolled": false
   },
   "outputs": [],
   "source": [
    "# Descrevendo os dados numéricos (selecionadas apenas as colunas que realmente se constituem em dados numéricos)\n",
    "df2.describe()"
   ]
  },
  {
   "cell_type": "code",
   "execution_count": null,
   "id": "40afbdb3",
   "metadata": {
    "scrolled": true
   },
   "outputs": [],
   "source": [
    "# Descrevendo os dados não numéricos\n",
    "df2.describe(include=object)"
   ]
  },
  {
   "cell_type": "code",
   "execution_count": null,
   "id": "b5220fa7",
   "metadata": {},
   "outputs": [],
   "source": [
    "df2.head()"
   ]
  },
  {
   "cell_type": "markdown",
   "id": "419b387f",
   "metadata": {},
   "source": [
    "---\n",
    "# Geração de dados de saída (Data output)"
   ]
  },
  {
   "cell_type": "markdown",
   "id": "b7985d7d",
   "metadata": {},
   "source": [
    "Uma vez finalizada a fase de limpeza e transformação, agora iremos dar saída ao dataset gerado para fins de análise. Faremos isso em forma de arquivos e em registros em banco de dados."
   ]
  },
  {
   "cell_type": "markdown",
   "id": "88de4387",
   "metadata": {},
   "source": [
    "## Gravação em arquivos"
   ]
  },
  {
   "cell_type": "code",
   "execution_count": null,
   "id": "4784b17d",
   "metadata": {},
   "outputs": [],
   "source": [
    "# Gravando em formato .csv\n",
    "df2.to_csv('datasets/df2_contratos.csv',index=False)\n",
    "\n",
    "# Gravando em formato .json\n",
    "# df2.to_json('datasets/df2_contratos.json')\n",
    "\n",
    "# Gravando em formato .xls\n",
    "# df2.to_excel('datasets/df2_contratos.xlsx',index=False)"
   ]
  },
  {
   "cell_type": "markdown",
   "id": "f1f1005b",
   "metadata": {},
   "source": [
    "## Gravação em DB relacional"
   ]
  },
  {
   "cell_type": "markdown",
   "id": "10cd2f4e",
   "metadata": {},
   "source": [
    "> Gravando em banco de dados SQLite"
   ]
  },
  {
   "cell_type": "code",
   "execution_count": null,
   "id": "d4c506b3",
   "metadata": {},
   "outputs": [],
   "source": [
    "# Importando a biblioteca sqlite3\n",
    "import sqlite3\n",
    "\n",
    "# Criando uma conexão ao banco de dados SQLite\n",
    "cnn=sqlite3.connect('database/bdContratosSC.db')\n",
    "\n",
    "# Copiando nosso dataframe para o banco de dados\n",
    "df2.to_sql('Contratos',cnn)"
   ]
  },
  {
   "cell_type": "markdown",
   "id": "13530a33",
   "metadata": {},
   "source": [
    "> Abaixo o código para gravação em banco de dados ***MySQL***, não executaremos esse script porque necessitamos ter  SGBD instalado."
   ]
  },
  {
   "cell_type": "code",
   "execution_count": null,
   "id": "9bddc171",
   "metadata": {},
   "outputs": [],
   "source": [
    "# Importando a biblioteca para interação com o MySQL\n",
    "#import mysql.connector\n",
    "\n",
    "# Configurando os parâmetros da conexão\n",
    "#config={\n",
    "#    'user':'seu usuário';\n",
    "#    'password':'sua_senha';\n",
    "#    'host':'https';    # ou endereço do servidor MySQL\n",
    "#    'database':'seu_bando_de_dados'\n",
    "#}\n",
    "\n",
    "# Criando uma conexão ao banco de dados\n",
    "#try:\n",
    "#    conn=mysql.connector.connect(**config)\n",
    "#    if conn.is_connected():\n",
    "#        print('Conexão ao banco de dados bem sucedida')\n",
    "#except mysql.connector.Error as err:\n",
    "#    print(f'Erro ao conectar ao banco de dados: {err}')\n",
    "\n",
    "# Copiando nosso dataframe para o banco de dados\n",
    "\n",
    "# Fechando a conexão (ao terminar de utilizar)\n",
    "#conn.close()"
   ]
  },
  {
   "cell_type": "markdown",
   "id": "5511e5c7",
   "metadata": {},
   "source": [
    "## Gravação em datalake (BD não-relacional)"
   ]
  },
  {
   "cell_type": "markdown",
   "id": "92bd7faf",
   "metadata": {},
   "source": [
    "> Abaixo o código para gravação em banco de dados ***MongoDB***, não executaremos esse script porque necessitamos ter  SGBD instalado."
   ]
  },
  {
   "cell_type": "code",
   "execution_count": null,
   "id": "ed8c0763",
   "metadata": {},
   "outputs": [],
   "source": [
    "# Importando a biblioteca para interação com o MongoDB\n",
    "#from pymongo import MongoClient\n",
    "\n",
    "# Configurando os parâmetros de conexão\n",
    "#client=MongoClient('mongodb://localhost:27017/')\n",
    "\n",
    "# Acessando um banco de dados específico\n",
    "#db=client['appdb']\n",
    "\n",
    "# Criando uma coleção no banco de dados\n",
    "#collection = db['Contratos']\n",
    "\n",
    "# Carregando o dataframe\n",
    "#data = df2.to_dict(orient='records')\n",
    "\n",
    "# Inserindo os registros no MongoDB\n",
    "#collection.insert_many(data)\n",
    "\n",
    "# Listando as coleções disponíveis\n",
    "#print(db.list_collection_names())"
   ]
  },
  {
   "cell_type": "code",
   "execution_count": null,
   "id": "fd652cbc",
   "metadata": {},
   "outputs": [],
   "source": [
    "#contratos=collection.find()\n",
    "#for contrato in contratos:\n",
    "#    print(contrato)"
   ]
  },
  {
   "cell_type": "code",
   "execution_count": null,
   "id": "34d7eddb",
   "metadata": {},
   "outputs": [],
   "source": [
    "# Fechando a conexão ao MongoDB\n",
    "#client.close()"
   ]
  },
  {
   "cell_type": "markdown",
   "id": "649eae84",
   "metadata": {},
   "source": [
    "Com a geração dos dados de saída, nosso trabalho de ***ETL*** de dados terminou. Fizemos a limpeza, transformação e carga de dados para arquivos de saíde e bancos de dados relacionais e não-relacionais. Agora passaremos à etapa de visualização de dados (dataviz) que faremos utilizando o Microsoft Power BI como ferramenta."
   ]
  },
  {
   "cell_type": "markdown",
   "id": "03dedbc5",
   "metadata": {},
   "source": [
    "---"
   ]
  },
  {
   "cell_type": "markdown",
   "id": "9071f326",
   "metadata": {},
   "source": [
    "<div style=\"font-size: 32px; text-align: center;font-weight: bold\">FIM</div>"
   ]
  }
 ],
 "metadata": {
  "kernelspec": {
   "display_name": "Python 3 (ipykernel)",
   "language": "python",
   "name": "python3"
  },
  "language_info": {
   "codemirror_mode": {
    "name": "ipython",
    "version": 3
   },
   "file_extension": ".py",
   "mimetype": "text/x-python",
   "name": "python",
   "nbconvert_exporter": "python",
   "pygments_lexer": "ipython3",
   "version": "3.8.5"
  }
 },
 "nbformat": 4,
 "nbformat_minor": 5
}
